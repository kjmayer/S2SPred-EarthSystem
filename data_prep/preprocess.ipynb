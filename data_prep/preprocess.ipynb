{
 "cells": [
  {
   "cell_type": "code",
   "execution_count": 46,
   "id": "f0cdc595-97b7-42c7-8691-c4b0c8e547c0",
   "metadata": {},
   "outputs": [
    {
     "name": "stdout",
     "output_type": "stream",
     "text": [
      "...setting up dask client...\n"
     ]
    },
    {
     "name": "stderr",
     "output_type": "stream",
     "text": [
      "/glade/work/kjmayer/conda-envs/ViT_XAI/lib/python3.11/site-packages/dask_jobqueue/pbs.py:82: FutureWarning: project has been renamed to account as this kwarg was used wit -A option. You are still using it (please also check config files). If you did not set account yet, project will be respected for now, but it will be removed in a future release. If you already set account, project is ignored and you can remove it.\n",
      "  warnings.warn(warn, FutureWarning)\n"
     ]
    },
    {
     "name": "stdout",
     "output_type": "stream",
     "text": [
      "...shutdown client...\n"
     ]
    },
    {
     "data": {
      "text/plain": [
       "<dask.config.set at 0x14c34717ad10>"
      ]
     },
     "execution_count": 46,
     "metadata": {},
     "output_type": "execute_result"
    }
   ],
   "source": [
    "import xarray as xr\n",
    "import numpy as np\n",
    "from numpy.polynomial import polynomial\n",
    "import matplotlib.pyplot as plt\n",
    "from utils import detrend_members\n",
    "import os\n",
    "\n",
    "import dask\n",
    "print('...setting up dask client...')\n",
    "if 'client' in locals():\n",
    "    client.shutdown()\n",
    "    print('...shutdown client...')\n",
    "else:\n",
    "    print('client does not exist yet')\n",
    "# ### ++++++ dask NCAR client: \n",
    "from distributed import Client\n",
    "from dask_jobqueue import PBSCluster\n",
    "dask.config.set(**{'array.slicing.split_large_chunks': False}) #supress warning about large chunk"
   ]
  },
  {
   "cell_type": "code",
   "execution_count": 10,
   "id": "40252a00-e521-402e-bb59-84e32dfab2f6",
   "metadata": {},
   "outputs": [
    {
     "name": "stderr",
     "output_type": "stream",
     "text": [
      "/glade/work/kjmayer/conda-envs/ViT_XAI/lib/python3.11/site-packages/dask_jobqueue/pbs.py:82: FutureWarning: project has been renamed to account as this kwarg was used wit -A option. You are still using it (please also check config files). If you did not set account yet, project will be respected for now, but it will be removed in a future release. If you already set account, project is ignored and you can remove it.\n",
      "  warnings.warn(warn, FutureWarning)\n",
      "/glade/work/kjmayer/conda-envs/ViT_XAI/lib/python3.11/site-packages/dask_jobqueue/pbs.py:82: FutureWarning: project has been renamed to account as this kwarg was used wit -A option. You are still using it (please also check config files). If you did not set account yet, project will be respected for now, but it will be removed in a future release. If you already set account, project is ignored and you can remove it.\n",
      "  warnings.warn(warn, FutureWarning)\n"
     ]
    },
    {
     "data": {
      "text/html": [
       "<div>\n",
       "    <div style=\"width: 24px; height: 24px; background-color: #e1e1e1; border: 3px solid #9D9D9D; border-radius: 5px; position: absolute;\"> </div>\n",
       "    <div style=\"margin-left: 48px;\">\n",
       "        <h3 style=\"margin-bottom: 0px;\">Client</h3>\n",
       "        <p style=\"color: #9D9D9D; margin-bottom: 0px;\">Client-9d846a87-7b80-11ef-b80d-3cecef1b11d4</p>\n",
       "        <table style=\"width: 100%; text-align: left;\">\n",
       "\n",
       "        <tr>\n",
       "        \n",
       "            <td style=\"text-align: left;\"><strong>Connection method:</strong> Cluster object</td>\n",
       "            <td style=\"text-align: left;\"><strong>Cluster type:</strong> dask_jobqueue.PBSCluster</td>\n",
       "        \n",
       "        </tr>\n",
       "\n",
       "        \n",
       "            <tr>\n",
       "                <td style=\"text-align: left;\">\n",
       "                    <strong>Dashboard: </strong> <a href=\"https://jupyterhub.hpc.ucar.edu/stable/user/kjmayer/proxy/8787/status\" target=\"_blank\">https://jupyterhub.hpc.ucar.edu/stable/user/kjmayer/proxy/8787/status</a>\n",
       "                </td>\n",
       "                <td style=\"text-align: left;\"></td>\n",
       "            </tr>\n",
       "        \n",
       "\n",
       "        </table>\n",
       "\n",
       "        \n",
       "\n",
       "        \n",
       "            <details>\n",
       "            <summary style=\"margin-bottom: 20px;\"><h3 style=\"display: inline;\">Cluster Info</h3></summary>\n",
       "            <div class=\"jp-RenderedHTMLCommon jp-RenderedHTML jp-mod-trusted jp-OutputArea-output\">\n",
       "    <div style=\"width: 24px; height: 24px; background-color: #e1e1e1; border: 3px solid #9D9D9D; border-radius: 5px; position: absolute;\">\n",
       "    </div>\n",
       "    <div style=\"margin-left: 48px;\">\n",
       "        <h3 style=\"margin-bottom: 0px; margin-top: 0px;\">PBSCluster</h3>\n",
       "        <p style=\"color: #9D9D9D; margin-bottom: 0px;\">f76879c1</p>\n",
       "        <table style=\"width: 100%; text-align: left;\">\n",
       "            <tr>\n",
       "                <td style=\"text-align: left;\">\n",
       "                    <strong>Dashboard:</strong> <a href=\"https://jupyterhub.hpc.ucar.edu/stable/user/kjmayer/proxy/8787/status\" target=\"_blank\">https://jupyterhub.hpc.ucar.edu/stable/user/kjmayer/proxy/8787/status</a>\n",
       "                </td>\n",
       "                <td style=\"text-align: left;\">\n",
       "                    <strong>Workers:</strong> 0\n",
       "                </td>\n",
       "            </tr>\n",
       "            <tr>\n",
       "                <td style=\"text-align: left;\">\n",
       "                    <strong>Total threads:</strong> 0\n",
       "                </td>\n",
       "                <td style=\"text-align: left;\">\n",
       "                    <strong>Total memory:</strong> 0 B\n",
       "                </td>\n",
       "            </tr>\n",
       "            \n",
       "        </table>\n",
       "\n",
       "        <details>\n",
       "            <summary style=\"margin-bottom: 20px;\">\n",
       "                <h3 style=\"display: inline;\">Scheduler Info</h3>\n",
       "            </summary>\n",
       "\n",
       "            <div style=\"\">\n",
       "    <div>\n",
       "        <div style=\"width: 24px; height: 24px; background-color: #FFF7E5; border: 3px solid #FF6132; border-radius: 5px; position: absolute;\"> </div>\n",
       "        <div style=\"margin-left: 48px;\">\n",
       "            <h3 style=\"margin-bottom: 0px;\">Scheduler</h3>\n",
       "            <p style=\"color: #9D9D9D; margin-bottom: 0px;\">Scheduler-356f7a7b-3038-47f1-bfc7-01a755302f6b</p>\n",
       "            <table style=\"width: 100%; text-align: left;\">\n",
       "                <tr>\n",
       "                    <td style=\"text-align: left;\">\n",
       "                        <strong>Comm:</strong> tcp://128.117.208.75:39663\n",
       "                    </td>\n",
       "                    <td style=\"text-align: left;\">\n",
       "                        <strong>Workers:</strong> 0\n",
       "                    </td>\n",
       "                </tr>\n",
       "                <tr>\n",
       "                    <td style=\"text-align: left;\">\n",
       "                        <strong>Dashboard:</strong> <a href=\"https://jupyterhub.hpc.ucar.edu/stable/user/kjmayer/proxy/8787/status\" target=\"_blank\">https://jupyterhub.hpc.ucar.edu/stable/user/kjmayer/proxy/8787/status</a>\n",
       "                    </td>\n",
       "                    <td style=\"text-align: left;\">\n",
       "                        <strong>Total threads:</strong> 0\n",
       "                    </td>\n",
       "                </tr>\n",
       "                <tr>\n",
       "                    <td style=\"text-align: left;\">\n",
       "                        <strong>Started:</strong> Just now\n",
       "                    </td>\n",
       "                    <td style=\"text-align: left;\">\n",
       "                        <strong>Total memory:</strong> 0 B\n",
       "                    </td>\n",
       "                </tr>\n",
       "            </table>\n",
       "        </div>\n",
       "    </div>\n",
       "\n",
       "    <details style=\"margin-left: 48px;\">\n",
       "        <summary style=\"margin-bottom: 20px;\">\n",
       "            <h3 style=\"display: inline;\">Workers</h3>\n",
       "        </summary>\n",
       "\n",
       "        \n",
       "\n",
       "    </details>\n",
       "</div>\n",
       "\n",
       "        </details>\n",
       "    </div>\n",
       "</div>\n",
       "            </details>\n",
       "        \n",
       "\n",
       "    </div>\n",
       "</div>"
      ],
      "text/plain": [
       "<Client: 'tcp://128.117.208.75:39663' processes=0 threads=0, memory=0 B>"
      ]
     },
     "execution_count": 10,
     "metadata": {},
     "output_type": "execute_result"
    }
   ],
   "source": [
    "#Setup your PBSCluster\n",
    "cluster = PBSCluster(\n",
    "                    cores=1, \n",
    "                    memory='10GB', # Amount of memory\n",
    "                    #processes=1, \n",
    "                    queue='casper', \n",
    "                    shared_temp_directory='/glade/derecho/scratch/kjmayer/tmp', # Use your local directory\n",
    "                    #resource_spec='select=1:ncpus=1:mem=10GB', \n",
    "                    project='P06010014', \n",
    "                    walltime='08:00:00'\n",
    "                    )\n",
    "\n",
    "# Scale up\n",
    "cluster.scale(10)\n",
    "\n",
    "client = Client(cluster)\n",
    "client"
   ]
  },
  {
   "cell_type": "code",
   "execution_count": null,
   "id": "d2bdc839-3bfd-47aa-b157-f22809a056fb",
   "metadata": {},
   "outputs": [],
   "source": [
    "# client.shutdown()"
   ]
  },
  {
   "cell_type": "code",
   "execution_count": 2,
   "id": "977ca830-39f4-41df-aea2-1848bf676efa",
   "metadata": {},
   "outputs": [],
   "source": [
    "atm_dir = '/glade/campaign/cgd/cesm/CESM2-LE/timeseries/atm/proc/tseries/day_1/'\n",
    "# Y = 'TREFHT'\n",
    "\n",
    "atm0 = 'TREFHT'\n",
    "# atm1 = 'U100'\n",
    "# atm2 = 'Z500'\n",
    "\n",
    "ocn = 'TS' #need land mask\n",
    "\n",
    "lnd_dir = '/glade/campaign/cgd/cesm/CESM2-LE/timeseries/lnd/proc/tseries/day_1/'\n",
    "lnd = 'SOILWATER_10CM'\n",
    "\n",
    "ens_strt = '1231' # max\n",
    "# ens_strt = '1251' # decreasing\n",
    "# ens_strt = '1281' # min\n",
    "# ens_strt = '1301' # increasing\n",
    "ens = ['011','012','013','014','015','016','017','018','019','020']\n",
    "\n",
    "savepath = '/glade/derecho/scratch/kjmayer/DATA/CESM2-LE/HIST/'"
   ]
  },
  {
   "cell_type": "markdown",
   "id": "5b51fa3b-a537-4ad1-94a9-bae073d26a0c",
   "metadata": {
    "jp-MarkdownHeadingCollapsed": true,
    "tags": []
   },
   "source": [
    "## Load raw CESM data & convert to 1950-2014 & [time,lat::2,lon::2]"
   ]
  },
  {
   "cell_type": "code",
   "execution_count": 16,
   "id": "57f6240a-802a-49d5-857e-dc9e37f8172a",
   "metadata": {},
   "outputs": [
    {
     "name": "stdout",
     "output_type": "stream",
     "text": [
      "012\n",
      "013\n",
      "014\n",
      "015\n",
      "016\n",
      "017\n",
      "018\n",
      "019\n",
      "020\n"
     ]
    }
   ],
   "source": [
    "# TREFHT\n",
    "if not os.path.exists(savepath+atm0):\n",
    "    os.makedirs(savepath+atm0)\n",
    "    \n",
    "for e in range(len(ens)):\n",
    "    atm0_savefi   = atm0+'_'+ens[e]+'_1950-2014.nc'\n",
    "    if not os.path.exists(savepath+atm0+'/'+atm0_savefi):\n",
    "        print(ens[e])\n",
    "        atm0_fi = 'b.e21.BHISTsmbb.f09_g17.LE2-'+ens_strt+'.'+ens[e]+'.cam.h1.'+atm0+'.*.nc' \n",
    "        atm0_ens = xr.open_mfdataset(atm_dir+atm0+'/'+atm0_fi,\n",
    "                                     concat_dim = 'time',\n",
    "                                     combine=\"nested\",\n",
    "                                     preprocess = lambda ds: ds[atm0].where((ds[atm0].time.dt.year >= 1950) &\n",
    "                                                                            (ds[atm0].time.dt.year <= 2014),\n",
    "                                                                            drop = True)[:,::2,::2]\n",
    "                                    )\n",
    "        atm0_ens.to_netcdf(savepath+atm0+'/'+atm0_savefi)\n",
    "        del(atm0_ens)"
   ]
  },
  {
   "cell_type": "code",
   "execution_count": 5,
   "id": "972c888f-3e42-4998-b40d-29cef8f8b435",
   "metadata": {},
   "outputs": [
    {
     "name": "stdout",
     "output_type": "stream",
     "text": [
      "019\n",
      "020\n"
     ]
    }
   ],
   "source": [
    "# SOILWATER_10CM\n",
    "if not os.path.exists(savepath+lnd):\n",
    "    os.makedirs(savepath+lnd)\n",
    "    print('made directory: '+savepath+lnd)\n",
    "    \n",
    "for e in range(len(ens)):\n",
    "    lnd_savefi   = lnd+'_'+ens[e]+'_1950-2014.nc'\n",
    "    if not os.path.exists(savepath+lnd+'/'+lnd_savefi):\n",
    "        print(ens[e])\n",
    "        lnd_fi = 'b.e21.BHISTsmbb.f09_g17.LE2-'+ens_strt+'.'+ens[e]+'.clm2.h5.'+lnd+'.*.nc' \n",
    "        lnd_ens = xr.open_mfdataset(lnd_dir+lnd+'/'+lnd_fi,\n",
    "                                     concat_dim = 'time',\n",
    "                                     combine=\"nested\",\n",
    "                                     preprocess = lambda ds: ds[lnd].where((ds[lnd].time.dt.year >= 1950) &\n",
    "                                                                            (ds[lnd].time.dt.year <= 2014),\n",
    "                                                                            drop = True)[:,::2,::2]\n",
    "                                    )\n",
    "        lnd_ens.to_netcdf(savepath+lnd+'/'+lnd_savefi)\n",
    "        del(lnd_ens)"
   ]
  },
  {
   "cell_type": "code",
   "execution_count": 6,
   "id": "f3d06940-a400-4b05-877f-96a61009b28a",
   "metadata": {},
   "outputs": [
    {
     "name": "stdout",
     "output_type": "stream",
     "text": [
      "made directory: /glade/derecho/scratch/kjmayer/DATA/CESM2-LE/HIST/TS\n",
      "011\n"
     ]
    },
    {
     "name": "stderr",
     "output_type": "stream",
     "text": [
      "/glade/work/kjmayer/conda-envs/ViT_XAI/lib/python3.11/site-packages/distributed/client.py:3358: UserWarning: Sending large graph of size 11.35 MiB.\n",
      "This may cause some slowdown.\n",
      "Consider loading the data with Dask directly\n",
      " or using futures or delayed objects to embed the data into the graph without repetition.\n",
      "See also https://docs.dask.org/en/stable/best-practices.html#load-data-with-dask for more information.\n",
      "  warnings.warn(\n"
     ]
    },
    {
     "name": "stdout",
     "output_type": "stream",
     "text": [
      "012\n"
     ]
    },
    {
     "name": "stderr",
     "output_type": "stream",
     "text": [
      "/glade/work/kjmayer/conda-envs/ViT_XAI/lib/python3.11/site-packages/distributed/client.py:3358: UserWarning: Sending large graph of size 11.35 MiB.\n",
      "This may cause some slowdown.\n",
      "Consider loading the data with Dask directly\n",
      " or using futures or delayed objects to embed the data into the graph without repetition.\n",
      "See also https://docs.dask.org/en/stable/best-practices.html#load-data-with-dask for more information.\n",
      "  warnings.warn(\n"
     ]
    },
    {
     "name": "stdout",
     "output_type": "stream",
     "text": [
      "013\n"
     ]
    },
    {
     "name": "stderr",
     "output_type": "stream",
     "text": [
      "/glade/work/kjmayer/conda-envs/ViT_XAI/lib/python3.11/site-packages/distributed/client.py:3358: UserWarning: Sending large graph of size 11.35 MiB.\n",
      "This may cause some slowdown.\n",
      "Consider loading the data with Dask directly\n",
      " or using futures or delayed objects to embed the data into the graph without repetition.\n",
      "See also https://docs.dask.org/en/stable/best-practices.html#load-data-with-dask for more information.\n",
      "  warnings.warn(\n"
     ]
    },
    {
     "name": "stdout",
     "output_type": "stream",
     "text": [
      "014\n"
     ]
    },
    {
     "name": "stderr",
     "output_type": "stream",
     "text": [
      "/glade/work/kjmayer/conda-envs/ViT_XAI/lib/python3.11/site-packages/distributed/client.py:3358: UserWarning: Sending large graph of size 11.35 MiB.\n",
      "This may cause some slowdown.\n",
      "Consider loading the data with Dask directly\n",
      " or using futures or delayed objects to embed the data into the graph without repetition.\n",
      "See also https://docs.dask.org/en/stable/best-practices.html#load-data-with-dask for more information.\n",
      "  warnings.warn(\n"
     ]
    },
    {
     "name": "stdout",
     "output_type": "stream",
     "text": [
      "015\n"
     ]
    },
    {
     "name": "stderr",
     "output_type": "stream",
     "text": [
      "/glade/work/kjmayer/conda-envs/ViT_XAI/lib/python3.11/site-packages/distributed/client.py:3358: UserWarning: Sending large graph of size 11.35 MiB.\n",
      "This may cause some slowdown.\n",
      "Consider loading the data with Dask directly\n",
      " or using futures or delayed objects to embed the data into the graph without repetition.\n",
      "See also https://docs.dask.org/en/stable/best-practices.html#load-data-with-dask for more information.\n",
      "  warnings.warn(\n"
     ]
    },
    {
     "name": "stdout",
     "output_type": "stream",
     "text": [
      "016\n"
     ]
    },
    {
     "name": "stderr",
     "output_type": "stream",
     "text": [
      "/glade/work/kjmayer/conda-envs/ViT_XAI/lib/python3.11/site-packages/distributed/client.py:3358: UserWarning: Sending large graph of size 11.35 MiB.\n",
      "This may cause some slowdown.\n",
      "Consider loading the data with Dask directly\n",
      " or using futures or delayed objects to embed the data into the graph without repetition.\n",
      "See also https://docs.dask.org/en/stable/best-practices.html#load-data-with-dask for more information.\n",
      "  warnings.warn(\n"
     ]
    },
    {
     "name": "stdout",
     "output_type": "stream",
     "text": [
      "017\n"
     ]
    },
    {
     "name": "stderr",
     "output_type": "stream",
     "text": [
      "/glade/work/kjmayer/conda-envs/ViT_XAI/lib/python3.11/site-packages/distributed/client.py:3358: UserWarning: Sending large graph of size 11.35 MiB.\n",
      "This may cause some slowdown.\n",
      "Consider loading the data with Dask directly\n",
      " or using futures or delayed objects to embed the data into the graph without repetition.\n",
      "See also https://docs.dask.org/en/stable/best-practices.html#load-data-with-dask for more information.\n",
      "  warnings.warn(\n"
     ]
    },
    {
     "name": "stdout",
     "output_type": "stream",
     "text": [
      "018\n"
     ]
    },
    {
     "name": "stderr",
     "output_type": "stream",
     "text": [
      "/glade/work/kjmayer/conda-envs/ViT_XAI/lib/python3.11/site-packages/distributed/client.py:3358: UserWarning: Sending large graph of size 11.35 MiB.\n",
      "This may cause some slowdown.\n",
      "Consider loading the data with Dask directly\n",
      " or using futures or delayed objects to embed the data into the graph without repetition.\n",
      "See also https://docs.dask.org/en/stable/best-practices.html#load-data-with-dask for more information.\n",
      "  warnings.warn(\n"
     ]
    },
    {
     "name": "stdout",
     "output_type": "stream",
     "text": [
      "019\n"
     ]
    },
    {
     "name": "stderr",
     "output_type": "stream",
     "text": [
      "/glade/work/kjmayer/conda-envs/ViT_XAI/lib/python3.11/site-packages/distributed/client.py:3358: UserWarning: Sending large graph of size 11.35 MiB.\n",
      "This may cause some slowdown.\n",
      "Consider loading the data with Dask directly\n",
      " or using futures or delayed objects to embed the data into the graph without repetition.\n",
      "See also https://docs.dask.org/en/stable/best-practices.html#load-data-with-dask for more information.\n",
      "  warnings.warn(\n"
     ]
    },
    {
     "name": "stdout",
     "output_type": "stream",
     "text": [
      "020\n"
     ]
    },
    {
     "name": "stderr",
     "output_type": "stream",
     "text": [
      "/glade/work/kjmayer/conda-envs/ViT_XAI/lib/python3.11/site-packages/distributed/client.py:3358: UserWarning: Sending large graph of size 11.35 MiB.\n",
      "This may cause some slowdown.\n",
      "Consider loading the data with Dask directly\n",
      " or using futures or delayed objects to embed the data into the graph without repetition.\n",
      "See also https://docs.dask.org/en/stable/best-practices.html#load-data-with-dask for more information.\n",
      "  warnings.warn(\n"
     ]
    }
   ],
   "source": [
    "path = '/glade/campaign/cgd/cesm/CESM2-LE/timeseries/atm/proc/tseries/month_1/SST/'\n",
    "finame = 'b.e21.BHISTsmbb.f09_g17.LE2-1231.011.cam.h0.SST.185001-185912.nc'\n",
    "SST_mask = xr.open_dataset(path+finame)['SST'][0,::2,::2]\n",
    "SST_mask = xr.where(SST_mask==0,x=0,y=1)\n",
    "\n",
    "# Skin Temp (\"SST\")\n",
    "if not os.path.exists(savepath+ocn):\n",
    "    os.makedirs(savepath+ocn)\n",
    "    print('made directory: '+savepath+ocn)\n",
    "    \n",
    "for e in range(len(ens)):\n",
    "    ocn_savefi = ocn+'_'+ens[e]+'_1950-2014.nc'\n",
    "    if not os.path.exists(savepath+ocn+'/'+ocn_savefi):\n",
    "        print(ens[e])\n",
    "        ocn_fi = 'b.e21.BHISTsmbb.f09_g17.LE2-'+ens_strt+'.'+ens[e]+'.cam.h1.'+ocn+'.*.nc' \n",
    "        ocn_ens = xr.open_mfdataset(atm_dir+ocn+'/'+ocn_fi,\n",
    "                                     concat_dim = 'time',\n",
    "                                     combine=\"nested\",\n",
    "                                     preprocess = lambda ds: ds[ocn].where((ds[ocn].time.dt.year >= 1950) &\n",
    "                                                                            (ds[ocn].time.dt.year <= 2014),\n",
    "                                                                            drop = True)[:,::2,::2]\n",
    "                                    )\n",
    "        #     ocn_ens[0].plot(vmin=240,vmax=300)\n",
    "        #     plt.show()\n",
    "        ocn_ens = ocn_ens*SST_mask\n",
    "        #     ocn_ens[0].plot(vmin=240,vmax=300)\n",
    "        #     plt.show()\n",
    "        \n",
    "        ocn_ens.to_netcdf(savepath+ocn+'/'+ocn_savefi)\n",
    "        del(ocn_ens)"
   ]
  },
  {
   "cell_type": "markdown",
   "id": "a70da51a-0539-4716-ad87-213673fff7e0",
   "metadata": {
    "jp-MarkdownHeadingCollapsed": true
   },
   "source": [
    "## Forcing"
   ]
  },
  {
   "cell_type": "code",
   "execution_count": 7,
   "id": "35d19864-6e0b-42c5-841b-5a0528cfc9fd",
   "metadata": {},
   "outputs": [
    {
     "name": "stderr",
     "output_type": "stream",
     "text": [
      "/glade/work/kjmayer/conda-envs/ViT_XAI/lib/python3.11/site-packages/distributed/client.py:3358: UserWarning: Sending large graph of size 1.22 GiB.\n",
      "This may cause some slowdown.\n",
      "Consider loading the data with Dask directly\n",
      " or using futures or delayed objects to embed the data into the graph without repetition.\n",
      "See also https://docs.dask.org/en/stable/best-practices.html#load-data-with-dask for more information.\n",
      "  warnings.warn(\n"
     ]
    }
   ],
   "source": [
    "atm0_ens_finame = atm0+'_*_1950-2014.nc'\n",
    "\n",
    "atm0_allens = xr.open_mfdataset(savepath+atm0+'/'+atm0_ens_finame,\n",
    "                              concat_dim = 'ens',\n",
    "                              combine=\"nested\",\n",
    "                              )[atm0]\n",
    "\n",
    "chunk_dict = {\"ens\": 1, \"time\":23725, \"lat\": 24, \"lon\": 36}\n",
    "atm0_allens = atm0_allens.chunk(chunk_dict)\n",
    "\n",
    "atm0_allens = atm0_allens.compute()\n",
    "\n",
    "\n",
    "atm0_ensmean = atm0_allens.mean('ens')\n",
    "chunk_dict = {\"time\":23725, \"lat\": 24, \"lon\": 36}\n",
    "atm0_ensmean = atm0_ensmean.chunk(chunk_dict)\n",
    "\n",
    "atm0_ensmean = atm0_ensmean.compute()\n",
    "\n",
    "# ----- SAVE INPUT ----\n",
    "atm0_ensmean.to_netcdf(savepath+atm0+'/'+atm0+'_ensmean011-020_1950-2014.nc')"
   ]
  },
  {
   "cell_type": "code",
   "execution_count": 8,
   "id": "bef339c0-a986-4d95-83f1-642cf038fef5",
   "metadata": {},
   "outputs": [
    {
     "data": {
      "text/plain": [
       "[<matplotlib.lines.Line2D at 0x149143109010>]"
      ]
     },
     "execution_count": 8,
     "metadata": {},
     "output_type": "execute_result"
    },
    {
     "data": {
      "image/png": "[encoded data removed]",
      "text/plain": [
       "<Figure size 640x480 with 1 Axes>"
      ]
     },
     "metadata": {},
     "output_type": "display_data"
    }
   ],
   "source": [
    "plt.plot(atm0_ensmean[:720,50,50])"
   ]
  },
  {
   "cell_type": "code",
   "execution_count": 9,
   "id": "4caf758f-e057-43f7-b083-cab9d5d83fd4",
   "metadata": {},
   "outputs": [
    {
     "name": "stderr",
     "output_type": "stream",
     "text": [
      "/glade/work/kjmayer/conda-envs/ViT_XAI/lib/python3.11/site-packages/distributed/client.py:3358: UserWarning: Sending large graph of size 1.22 GiB.\n",
      "This may cause some slowdown.\n",
      "Consider loading the data with Dask directly\n",
      " or using futures or delayed objects to embed the data into the graph without repetition.\n",
      "See also https://docs.dask.org/en/stable/best-practices.html#load-data-with-dask for more information.\n",
      "  warnings.warn(\n"
     ]
    }
   ],
   "source": [
    "lnd_ens_finame = lnd+'_*_1950-2014.nc'\n",
    "\n",
    "lnd_allens = xr.open_mfdataset(savepath+lnd+'/'+lnd_ens_finame,\n",
    "                              concat_dim = 'ens',\n",
    "                              combine=\"nested\",\n",
    "                              )[lnd]\n",
    "\n",
    "chunk_dict = {\"ens\": 1, \"time\":23725, \"lat\": 24, \"lon\": 36}\n",
    "lnd_allens = lnd_allens.chunk(chunk_dict)\n",
    "\n",
    "lnd_allens = lnd_allens.compute()\n",
    "\n",
    "\n",
    "lnd_ensmean = lnd_allens.mean('ens')\n",
    "chunk_dict = {\"time\":23725, \"lat\": 24, \"lon\": 36}\n",
    "lnd_ensmean = lnd_ensmean.chunk(chunk_dict)\n",
    "\n",
    "lnd_ensmean = lnd_ensmean.compute()\n",
    "\n",
    "# ----- SAVE INPUT ----\n",
    "lnd_ensmean.to_netcdf(savepath+lnd+'/'+lnd+'_ensmean011-020_1950-2014.nc')"
   ]
  },
  {
   "cell_type": "code",
   "execution_count": 30,
   "id": "83e9ad8e-a15a-4b06-980d-2477bd3ce30f",
   "metadata": {},
   "outputs": [
    {
     "data": {
      "text/plain": [
       "[<matplotlib.lines.Line2D at 0x149164e8d7d0>]"
      ]
     },
     "execution_count": 30,
     "metadata": {},
     "output_type": "execute_result"
    },
    {
     "data": {
      "image/png": "[encoded data removed]",
      "text/plain": [
       "<Figure size 640x480 with 1 Axes>"
      ]
     },
     "metadata": {},
     "output_type": "display_data"
    }
   ],
   "source": [
    "plt.plot(lnd_ensmean[:720,75,50])"
   ]
  },
  {
   "cell_type": "code",
   "execution_count": 16,
   "id": "fd8db107-784b-4454-9ec5-1264e2391423",
   "metadata": {},
   "outputs": [
    {
     "name": "stdout",
     "output_type": "stream",
     "text": [
      "compute chunking\n",
      "compute mean & chunk\n"
     ]
    },
    {
     "name": "stderr",
     "output_type": "stream",
     "text": [
      "/glade/work/kjmayer/conda-envs/ViT_XAI/lib/python3.11/site-packages/distributed/client.py:3358: UserWarning: Sending large graph of size 2.44 GiB.\n",
      "This may cause some slowdown.\n",
      "Consider loading the data with Dask directly\n",
      " or using futures or delayed objects to embed the data into the graph without repetition.\n",
      "See also https://docs.dask.org/en/stable/best-practices.html#load-data-with-dask for more information.\n",
      "  warnings.warn(\n"
     ]
    },
    {
     "name": "stdout",
     "output_type": "stream",
     "text": [
      "save climo\n"
     ]
    }
   ],
   "source": [
    "ocn_ens_finame = ocn+'_*_1950-2014.nc'\n",
    "\n",
    "ocn_allens = xr.open_mfdataset(savepath+ocn+'/'+ocn_ens_finame,\n",
    "                              concat_dim = 'ens',\n",
    "                              combine=\"nested\",\n",
    "                              )['__xarray_dataarray_variable__']\n",
    "\n",
    "chunk_dict = {\"ens\": 1, \"time\":23725, \"lat\": 24, \"lon\": 36}\n",
    "ocn_allens = ocn_allens.chunk(chunk_dict)\n",
    "print('compute chunking')\n",
    "ocn_allens = ocn_allens.compute()\n",
    "\n",
    "\n",
    "ocn_ensmean = ocn_allens.mean('ens')\n",
    "chunk_dict = {\"time\":23725, \"lat\": 24, \"lon\": 36}\n",
    "ocn_ensmean = ocn_ensmean.chunk(chunk_dict)\n",
    "print('compute mean & chunk')\n",
    "ocn_ensmean = ocn_ensmean.compute()\n",
    "\n",
    "# ----- SAVE INPUT ----\n",
    "print('save climo')\n",
    "ocn_ensmean.to_netcdf(savepath+ocn+'/'+ocn+'_ensmean011-020_1950-2014.nc')"
   ]
  },
  {
   "cell_type": "code",
   "execution_count": 17,
   "id": "d6ed1d0d-76f5-44cd-a8ca-e4fa275796a5",
   "metadata": {},
   "outputs": [
    {
     "data": {
      "text/plain": [
       "[<matplotlib.lines.Line2D at 0x149156e77c90>]"
      ]
     },
     "execution_count": 17,
     "metadata": {},
     "output_type": "execute_result"
    },
    {
     "data": {
      "image/png": "[encoded data removed]",
      "text/plain": [
       "<Figure size 640x480 with 1 Axes>"
      ]
     },
     "metadata": {},
     "output_type": "display_data"
    }
   ],
   "source": [
    "plt.plot(ocn_ensmean[:720,50,50])"
   ]
  },
  {
   "cell_type": "markdown",
   "id": "6726a757-f556-4a4b-aa77-4b5af065475c",
   "metadata": {
    "jp-MarkdownHeadingCollapsed": true
   },
   "source": [
    "## SeasonalCycle/Climo"
   ]
  },
  {
   "cell_type": "code",
   "execution_count": 18,
   "id": "f6f7f4df-0a1c-442f-8134-ef91b23c70be",
   "metadata": {},
   "outputs": [],
   "source": [
    "atmforce = xr.open_dataarray(savepath+atm0+'/'+atm0+'_ensmean011-020_1950-2014.nc')\n",
    "lndforce = xr.open_dataarray(savepath+lnd+'/'+lnd+'_ensmean011-020_1950-2014.nc')\n",
    "ocnforce = xr.open_dataarray(savepath+ocn+'/'+ocn+'_ensmean011-020_1950-2014.nc')"
   ]
  },
  {
   "cell_type": "code",
   "execution_count": 19,
   "id": "9c18437a-cce5-449e-a3e0-3123f3ba2592",
   "metadata": {},
   "outputs": [],
   "source": [
    "atmclimo = atmforce.groupby('time.dayofyear').mean()"
   ]
  },
  {
   "cell_type": "code",
   "execution_count": 20,
   "id": "9811e538-6646-4543-b53e-ebf085afc2b5",
   "metadata": {},
   "outputs": [],
   "source": [
    "lndclimo = lndforce.groupby('time.dayofyear').mean()"
   ]
  },
  {
   "cell_type": "code",
   "execution_count": 21,
   "id": "c0e083cc-eae8-41ed-be39-d4acfed97731",
   "metadata": {},
   "outputs": [],
   "source": [
    "ocnclimo = ocnforce.groupby('time.dayofyear').mean()"
   ]
  },
  {
   "cell_type": "code",
   "execution_count": 22,
   "id": "15518372-30e8-4bf3-8370-6caeb4cc3327",
   "metadata": {},
   "outputs": [
    {
     "name": "stdout",
     "output_type": "stream",
     "text": [
      "atm saved\n",
      "lnd saved\n",
      "ocn saved\n"
     ]
    }
   ],
   "source": [
    "atmclimo.to_netcdf(savepath+atm0+'/'+atm0+'_doymean_ensmean011-020_1950-2014.nc')\n",
    "print('atm saved')\n",
    "lndclimo.to_netcdf(savepath+lnd+'/'+lnd+'_doymean_ensmean011-020_1950-2014.nc')\n",
    "print('lnd saved')\n",
    "ocnclimo.to_netcdf(savepath+ocn+'/'+ocn+'_doymean_ensmean011-020_1950-2014.nc')\n",
    "print('ocn saved')"
   ]
  },
  {
   "cell_type": "markdown",
   "id": "1832d5d3-d977-41a7-a071-5e84abbfcebd",
   "metadata": {
    "tags": []
   },
   "source": [
    "## Remove Seasonal Cycle & Detrend Output:"
   ]
  },
  {
   "cell_type": "code",
   "execution_count": 29,
   "id": "1756a166-7c38-4fb8-abb0-ff109d2e1099",
   "metadata": {},
   "outputs": [],
   "source": [
    "atm0_ensmean = xr.open_dataarray(savepath+atm0+'/'+atm0+'_ensmean011-020_1950-2014.nc')\n",
    "lnd_ensmean = xr.open_dataarray(savepath+lnd+'/'+lnd+'_ensmean011-020_1950-2014.nc')\n",
    "lnd_ensmean_nonan = lnd_ensmean.fillna(-999)\n",
    "ocn_ensmean = xr.open_dataarray(savepath+ocn+'/'+ocn+'_ensmean011-020_1950-2014.nc')"
   ]
  },
  {
   "cell_type": "code",
   "execution_count": 13,
   "id": "79fea619-4529-4a5f-8942-c1bcff5bc8d8",
   "metadata": {},
   "outputs": [],
   "source": [
    "atm0_ens_finame = atm0+'_0*_1950-2014.nc'\n",
    "atm0_allens = xr.open_mfdataset(savepath+atm0+'/'+atm0_ens_finame,\n",
    "                              concat_dim = 'ens',\n",
    "                              combine=\"nested\",\n",
    "                              )[atm0]"
   ]
  },
  {
   "cell_type": "code",
   "execution_count": 14,
   "id": "fd46c465-908d-4a7d-9a88-7881f5319e06",
   "metadata": {},
   "outputs": [
    {
     "name": "stderr",
     "output_type": "stream",
     "text": [
      "/glade/work/kjmayer/conda-envs/ViT_XAI/lib/python3.11/site-packages/distributed/client.py:3358: UserWarning: Sending large graph of size 2.45 GiB.\n",
      "This may cause some slowdown.\n",
      "Consider loading the data with Dask directly\n",
      " or using futures or delayed objects to embed the data into the graph without repetition.\n",
      "See also https://docs.dask.org/en/stable/best-practices.html#load-data-with-dask for more information.\n",
      "  warnings.warn(\n"
     ]
    },
    {
     "data": {
      "image/png": "[encoded data removed]",
      "text/plain": [
       "<Figure size 640x480 with 1 Axes>"
      ]
     },
     "metadata": {},
     "output_type": "display_data"
    },
    {
     "name": "stdout",
     "output_type": "stream",
     "text": [
      "CPU times: user 32.5 s, sys: 5.65 s, total: 38.1 s\n",
      "Wall time: 49.9 s\n"
     ]
    }
   ],
   "source": [
    "%%time\n",
    "atm0_detrended = detrend_members(data = atm0_allens, \n",
    "                                 ensmean_data = atm0_ensmean, \n",
    "                                 npoly = 3)\n",
    "\n",
    "plt.plot(atm0_detrended[0,:,50,50])\n",
    "# plt.plot(atm0_allens[0,:500,50,50])\n",
    "plt.show()"
   ]
  },
  {
   "cell_type": "code",
   "execution_count": 15,
   "id": "c4b4af1c-011c-413a-a098-c3e6be3161f3",
   "metadata": {},
   "outputs": [
    {
     "name": "stdout",
     "output_type": "stream",
     "text": [
      "011\n"
     ]
    },
    {
     "name": "stderr",
     "output_type": "stream",
     "text": [
      "/glade/work/kjmayer/conda-envs/ViT_XAI/lib/python3.11/site-packages/distributed/client.py:3358: UserWarning: Sending large graph of size 2.45 GiB.\n",
      "This may cause some slowdown.\n",
      "Consider loading the data with Dask directly\n",
      " or using futures or delayed objects to embed the data into the graph without repetition.\n",
      "See also https://docs.dask.org/en/stable/best-practices.html#load-data-with-dask for more information.\n",
      "  warnings.warn(\n"
     ]
    },
    {
     "name": "stdout",
     "output_type": "stream",
     "text": [
      "012\n"
     ]
    },
    {
     "name": "stderr",
     "output_type": "stream",
     "text": [
      "/glade/work/kjmayer/conda-envs/ViT_XAI/lib/python3.11/site-packages/distributed/client.py:3358: UserWarning: Sending large graph of size 2.45 GiB.\n",
      "This may cause some slowdown.\n",
      "Consider loading the data with Dask directly\n",
      " or using futures or delayed objects to embed the data into the graph without repetition.\n",
      "See also https://docs.dask.org/en/stable/best-practices.html#load-data-with-dask for more information.\n",
      "  warnings.warn(\n"
     ]
    },
    {
     "name": "stdout",
     "output_type": "stream",
     "text": [
      "013\n"
     ]
    },
    {
     "name": "stderr",
     "output_type": "stream",
     "text": [
      "/glade/work/kjmayer/conda-envs/ViT_XAI/lib/python3.11/site-packages/distributed/client.py:3358: UserWarning: Sending large graph of size 2.45 GiB.\n",
      "This may cause some slowdown.\n",
      "Consider loading the data with Dask directly\n",
      " or using futures or delayed objects to embed the data into the graph without repetition.\n",
      "See also https://docs.dask.org/en/stable/best-practices.html#load-data-with-dask for more information.\n",
      "  warnings.warn(\n"
     ]
    },
    {
     "name": "stdout",
     "output_type": "stream",
     "text": [
      "014\n"
     ]
    },
    {
     "name": "stderr",
     "output_type": "stream",
     "text": [
      "/glade/work/kjmayer/conda-envs/ViT_XAI/lib/python3.11/site-packages/distributed/client.py:3358: UserWarning: Sending large graph of size 2.45 GiB.\n",
      "This may cause some slowdown.\n",
      "Consider loading the data with Dask directly\n",
      " or using futures or delayed objects to embed the data into the graph without repetition.\n",
      "See also https://docs.dask.org/en/stable/best-practices.html#load-data-with-dask for more information.\n",
      "  warnings.warn(\n"
     ]
    },
    {
     "name": "stdout",
     "output_type": "stream",
     "text": [
      "015\n"
     ]
    },
    {
     "name": "stderr",
     "output_type": "stream",
     "text": [
      "/glade/work/kjmayer/conda-envs/ViT_XAI/lib/python3.11/site-packages/distributed/client.py:3358: UserWarning: Sending large graph of size 2.45 GiB.\n",
      "This may cause some slowdown.\n",
      "Consider loading the data with Dask directly\n",
      " or using futures or delayed objects to embed the data into the graph without repetition.\n",
      "See also https://docs.dask.org/en/stable/best-practices.html#load-data-with-dask for more information.\n",
      "  warnings.warn(\n"
     ]
    },
    {
     "name": "stdout",
     "output_type": "stream",
     "text": [
      "016\n"
     ]
    },
    {
     "name": "stderr",
     "output_type": "stream",
     "text": [
      "/glade/work/kjmayer/conda-envs/ViT_XAI/lib/python3.11/site-packages/distributed/client.py:3358: UserWarning: Sending large graph of size 2.45 GiB.\n",
      "This may cause some slowdown.\n",
      "Consider loading the data with Dask directly\n",
      " or using futures or delayed objects to embed the data into the graph without repetition.\n",
      "See also https://docs.dask.org/en/stable/best-practices.html#load-data-with-dask for more information.\n",
      "  warnings.warn(\n"
     ]
    },
    {
     "name": "stdout",
     "output_type": "stream",
     "text": [
      "017\n"
     ]
    },
    {
     "name": "stderr",
     "output_type": "stream",
     "text": [
      "/glade/work/kjmayer/conda-envs/ViT_XAI/lib/python3.11/site-packages/distributed/client.py:3358: UserWarning: Sending large graph of size 2.45 GiB.\n",
      "This may cause some slowdown.\n",
      "Consider loading the data with Dask directly\n",
      " or using futures or delayed objects to embed the data into the graph without repetition.\n",
      "See also https://docs.dask.org/en/stable/best-practices.html#load-data-with-dask for more information.\n",
      "  warnings.warn(\n"
     ]
    },
    {
     "name": "stdout",
     "output_type": "stream",
     "text": [
      "018\n"
     ]
    },
    {
     "name": "stderr",
     "output_type": "stream",
     "text": [
      "/glade/work/kjmayer/conda-envs/ViT_XAI/lib/python3.11/site-packages/distributed/client.py:3358: UserWarning: Sending large graph of size 2.45 GiB.\n",
      "This may cause some slowdown.\n",
      "Consider loading the data with Dask directly\n",
      " or using futures or delayed objects to embed the data into the graph without repetition.\n",
      "See also https://docs.dask.org/en/stable/best-practices.html#load-data-with-dask for more information.\n",
      "  warnings.warn(\n"
     ]
    },
    {
     "name": "stdout",
     "output_type": "stream",
     "text": [
      "019\n"
     ]
    },
    {
     "name": "stderr",
     "output_type": "stream",
     "text": [
      "/glade/work/kjmayer/conda-envs/ViT_XAI/lib/python3.11/site-packages/distributed/client.py:3358: UserWarning: Sending large graph of size 2.45 GiB.\n",
      "This may cause some slowdown.\n",
      "Consider loading the data with Dask directly\n",
      " or using futures or delayed objects to embed the data into the graph without repetition.\n",
      "See also https://docs.dask.org/en/stable/best-practices.html#load-data-with-dask for more information.\n",
      "  warnings.warn(\n"
     ]
    },
    {
     "name": "stdout",
     "output_type": "stream",
     "text": [
      "020\n"
     ]
    },
    {
     "name": "stderr",
     "output_type": "stream",
     "text": [
      "/glade/work/kjmayer/conda-envs/ViT_XAI/lib/python3.11/site-packages/distributed/client.py:3358: UserWarning: Sending large graph of size 2.45 GiB.\n",
      "This may cause some slowdown.\n",
      "Consider loading the data with Dask directly\n",
      " or using futures or delayed objects to embed the data into the graph without repetition.\n",
      "See also https://docs.dask.org/en/stable/best-practices.html#load-data-with-dask for more information.\n",
      "  warnings.warn(\n"
     ]
    },
    {
     "name": "stdout",
     "output_type": "stream",
     "text": [
      "CPU times: user 3min 14s, sys: 33.1 s, total: 3min 47s\n",
      "Wall time: 7min 50s\n"
     ]
    }
   ],
   "source": [
    "%%time\n",
    "ens = ['011','012','013','014','015','016','017','018','019','020']\n",
    "for e in range(len(ens)):\n",
    "    print(ens[e])\n",
    "    atm0_detrended[e].to_netcdf(savepath+atm0+'/'+atm0+'_anom_'+ens[e]+'_1950-2014.nc')"
   ]
  },
  {
   "cell_type": "code",
   "execution_count": 26,
   "id": "f5547045-f23b-4728-90a0-f70598c311f5",
   "metadata": {},
   "outputs": [],
   "source": [
    "lnd_ens_finame = lnd+'_0*_1950-2014.nc'\n",
    "lnd_allens = xr.open_mfdataset(savepath+lnd+'/'+lnd_ens_finame,\n",
    "                              concat_dim = 'ens',\n",
    "                              combine=\"nested\",\n",
    "                              )[lnd]\n",
    "\n",
    "lnd_allens_nonan = lnd_allens.fillna(-999)"
   ]
  },
  {
   "cell_type": "code",
   "execution_count": 31,
   "id": "10ffab4c-d333-48b2-ba42-b5601d3ee6b4",
   "metadata": {},
   "outputs": [
    {
     "name": "stderr",
     "output_type": "stream",
     "text": [
      "/glade/work/kjmayer/conda-envs/ViT_XAI/lib/python3.11/site-packages/distributed/client.py:3358: UserWarning: Sending large graph of size 2.45 GiB.\n",
      "This may cause some slowdown.\n",
      "Consider loading the data with Dask directly\n",
      " or using futures or delayed objects to embed the data into the graph without repetition.\n",
      "See also https://docs.dask.org/en/stable/best-practices.html#load-data-with-dask for more information.\n",
      "  warnings.warn(\n"
     ]
    },
    {
     "data": {
      "image/png": "[encoded data removed]",
      "text/plain": [
       "<Figure size 640x480 with 1 Axes>"
      ]
     },
     "metadata": {},
     "output_type": "display_data"
    },
    {
     "name": "stdout",
     "output_type": "stream",
     "text": [
      "CPU times: user 33.4 s, sys: 6.59 s, total: 40 s\n",
      "Wall time: 45.4 s\n"
     ]
    }
   ],
   "source": [
    "%%time\n",
    "lnd_detrended = detrend_members(data = lnd_allens_nonan, \n",
    "                                ensmean_data = lnd_ensmean_nonan, \n",
    "                                npoly = 3)\n",
    "\n",
    "plt.plot(lnd_detrended[0,:,75,50])\n",
    "# plt.plot(lnd_allens[0,:500,75,50])\n",
    "plt.show()"
   ]
  },
  {
   "cell_type": "code",
   "execution_count": 32,
   "id": "13e963ce-41ee-432d-8989-773e092ffcc1",
   "metadata": {},
   "outputs": [
    {
     "name": "stdout",
     "output_type": "stream",
     "text": [
      "011\n"
     ]
    },
    {
     "name": "stderr",
     "output_type": "stream",
     "text": [
      "/glade/work/kjmayer/conda-envs/ViT_XAI/lib/python3.11/site-packages/distributed/client.py:3358: UserWarning: Sending large graph of size 2.45 GiB.\n",
      "This may cause some slowdown.\n",
      "Consider loading the data with Dask directly\n",
      " or using futures or delayed objects to embed the data into the graph without repetition.\n",
      "See also https://docs.dask.org/en/stable/best-practices.html#load-data-with-dask for more information.\n",
      "  warnings.warn(\n"
     ]
    },
    {
     "name": "stdout",
     "output_type": "stream",
     "text": [
      "012\n"
     ]
    },
    {
     "name": "stderr",
     "output_type": "stream",
     "text": [
      "/glade/work/kjmayer/conda-envs/ViT_XAI/lib/python3.11/site-packages/distributed/client.py:3358: UserWarning: Sending large graph of size 2.45 GiB.\n",
      "This may cause some slowdown.\n",
      "Consider loading the data with Dask directly\n",
      " or using futures or delayed objects to embed the data into the graph without repetition.\n",
      "See also https://docs.dask.org/en/stable/best-practices.html#load-data-with-dask for more information.\n",
      "  warnings.warn(\n"
     ]
    },
    {
     "name": "stdout",
     "output_type": "stream",
     "text": [
      "013\n"
     ]
    },
    {
     "name": "stderr",
     "output_type": "stream",
     "text": [
      "/glade/work/kjmayer/conda-envs/ViT_XAI/lib/python3.11/site-packages/distributed/client.py:3358: UserWarning: Sending large graph of size 2.45 GiB.\n",
      "This may cause some slowdown.\n",
      "Consider loading the data with Dask directly\n",
      " or using futures or delayed objects to embed the data into the graph without repetition.\n",
      "See also https://docs.dask.org/en/stable/best-practices.html#load-data-with-dask for more information.\n",
      "  warnings.warn(\n"
     ]
    },
    {
     "name": "stdout",
     "output_type": "stream",
     "text": [
      "014\n"
     ]
    },
    {
     "name": "stderr",
     "output_type": "stream",
     "text": [
      "/glade/work/kjmayer/conda-envs/ViT_XAI/lib/python3.11/site-packages/distributed/client.py:3358: UserWarning: Sending large graph of size 2.45 GiB.\n",
      "This may cause some slowdown.\n",
      "Consider loading the data with Dask directly\n",
      " or using futures or delayed objects to embed the data into the graph without repetition.\n",
      "See also https://docs.dask.org/en/stable/best-practices.html#load-data-with-dask for more information.\n",
      "  warnings.warn(\n"
     ]
    },
    {
     "name": "stdout",
     "output_type": "stream",
     "text": [
      "015\n"
     ]
    },
    {
     "name": "stderr",
     "output_type": "stream",
     "text": [
      "/glade/work/kjmayer/conda-envs/ViT_XAI/lib/python3.11/site-packages/distributed/client.py:3358: UserWarning: Sending large graph of size 2.45 GiB.\n",
      "This may cause some slowdown.\n",
      "Consider loading the data with Dask directly\n",
      " or using futures or delayed objects to embed the data into the graph without repetition.\n",
      "See also https://docs.dask.org/en/stable/best-practices.html#load-data-with-dask for more information.\n",
      "  warnings.warn(\n"
     ]
    },
    {
     "name": "stdout",
     "output_type": "stream",
     "text": [
      "016\n"
     ]
    },
    {
     "name": "stderr",
     "output_type": "stream",
     "text": [
      "/glade/work/kjmayer/conda-envs/ViT_XAI/lib/python3.11/site-packages/distributed/client.py:3358: UserWarning: Sending large graph of size 2.45 GiB.\n",
      "This may cause some slowdown.\n",
      "Consider loading the data with Dask directly\n",
      " or using futures or delayed objects to embed the data into the graph without repetition.\n",
      "See also https://docs.dask.org/en/stable/best-practices.html#load-data-with-dask for more information.\n",
      "  warnings.warn(\n"
     ]
    },
    {
     "name": "stdout",
     "output_type": "stream",
     "text": [
      "017\n"
     ]
    },
    {
     "name": "stderr",
     "output_type": "stream",
     "text": [
      "/glade/work/kjmayer/conda-envs/ViT_XAI/lib/python3.11/site-packages/distributed/client.py:3358: UserWarning: Sending large graph of size 2.45 GiB.\n",
      "This may cause some slowdown.\n",
      "Consider loading the data with Dask directly\n",
      " or using futures or delayed objects to embed the data into the graph without repetition.\n",
      "See also https://docs.dask.org/en/stable/best-practices.html#load-data-with-dask for more information.\n",
      "  warnings.warn(\n"
     ]
    },
    {
     "name": "stdout",
     "output_type": "stream",
     "text": [
      "018\n"
     ]
    },
    {
     "name": "stderr",
     "output_type": "stream",
     "text": [
      "/glade/work/kjmayer/conda-envs/ViT_XAI/lib/python3.11/site-packages/distributed/client.py:3358: UserWarning: Sending large graph of size 2.45 GiB.\n",
      "This may cause some slowdown.\n",
      "Consider loading the data with Dask directly\n",
      " or using futures or delayed objects to embed the data into the graph without repetition.\n",
      "See also https://docs.dask.org/en/stable/best-practices.html#load-data-with-dask for more information.\n",
      "  warnings.warn(\n"
     ]
    },
    {
     "name": "stdout",
     "output_type": "stream",
     "text": [
      "019\n"
     ]
    },
    {
     "name": "stderr",
     "output_type": "stream",
     "text": [
      "/glade/work/kjmayer/conda-envs/ViT_XAI/lib/python3.11/site-packages/distributed/client.py:3358: UserWarning: Sending large graph of size 2.45 GiB.\n",
      "This may cause some slowdown.\n",
      "Consider loading the data with Dask directly\n",
      " or using futures or delayed objects to embed the data into the graph without repetition.\n",
      "See also https://docs.dask.org/en/stable/best-practices.html#load-data-with-dask for more information.\n",
      "  warnings.warn(\n"
     ]
    },
    {
     "name": "stdout",
     "output_type": "stream",
     "text": [
      "020\n"
     ]
    },
    {
     "name": "stderr",
     "output_type": "stream",
     "text": [
      "/glade/work/kjmayer/conda-envs/ViT_XAI/lib/python3.11/site-packages/distributed/client.py:3358: UserWarning: Sending large graph of size 2.45 GiB.\n",
      "This may cause some slowdown.\n",
      "Consider loading the data with Dask directly\n",
      " or using futures or delayed objects to embed the data into the graph without repetition.\n",
      "See also https://docs.dask.org/en/stable/best-practices.html#load-data-with-dask for more information.\n",
      "  warnings.warn(\n"
     ]
    },
    {
     "name": "stdout",
     "output_type": "stream",
     "text": [
      "CPU times: user 3min 22s, sys: 43.3 s, total: 4min 5s\n",
      "Wall time: 8min 24s\n"
     ]
    }
   ],
   "source": [
    "%%time\n",
    "ens = ['011','012','013','014','015','016','017','018','019','020']\n",
    "for e in range(len(ens)):\n",
    "    print(ens[e])\n",
    "    lnd_detrended[e].to_netcdf(savepath+lnd+'/'+lnd+'_anom_'+ens[e]+'_1950-2014.nc')"
   ]
  },
  {
   "cell_type": "code",
   "execution_count": 34,
   "id": "3c65d7d7-02ed-48b3-ac64-e46b56a12b5a",
   "metadata": {},
   "outputs": [],
   "source": [
    "ocn_ens_finame = ocn+'_0*_1950-2014.nc'\n",
    "ocn_allens = xr.open_mfdataset(savepath+ocn+'/'+ocn_ens_finame,\n",
    "                              concat_dim = 'ens',\n",
    "                              combine=\"nested\",\n",
    "                              )['__xarray_dataarray_variable__']"
   ]
  },
  {
   "cell_type": "code",
   "execution_count": 44,
   "id": "42cae323-a044-413c-9623-2b5075417f41",
   "metadata": {},
   "outputs": [
    {
     "name": "stderr",
     "output_type": "stream",
     "text": [
      "/glade/work/kjmayer/conda-envs/ViT_XAI/lib/python3.11/site-packages/distributed/client.py:3358: UserWarning: Sending large graph of size 2.45 GiB.\n",
      "This may cause some slowdown.\n",
      "Consider loading the data with Dask directly\n",
      " or using futures or delayed objects to embed the data into the graph without repetition.\n",
      "See also https://docs.dask.org/en/stable/best-practices.html#load-data-with-dask for more information.\n",
      "  warnings.warn(\n"
     ]
    },
    {
     "data": {
      "image/png": "[encoded data removed]",
      "text/plain": [
       "<Figure size 640x480 with 1 Axes>"
      ]
     },
     "metadata": {},
     "output_type": "display_data"
    },
    {
     "name": "stdout",
     "output_type": "stream",
     "text": [
      "CPU times: user 34.4 s, sys: 6.61 s, total: 41 s\n",
      "Wall time: 46.6 s\n"
     ]
    }
   ],
   "source": [
    "%%time\n",
    "ocn_detrended = detrend_members(data = ocn_allens, \n",
    "                                 ensmean_data = ocn_ensmean, \n",
    "                                 npoly = 3)\n",
    "\n",
    "plt.plot(ocn_detrended[0,:,50,50])\n",
    "# plt.plot(ocn_allens[0,:500,50,50])\n",
    "plt.show()"
   ]
  },
  {
   "cell_type": "code",
   "execution_count": 45,
   "id": "5d8ccb9f-ec01-4261-bafc-896abeb0fe16",
   "metadata": {},
   "outputs": [
    {
     "name": "stdout",
     "output_type": "stream",
     "text": [
      "011\n"
     ]
    },
    {
     "name": "stderr",
     "output_type": "stream",
     "text": [
      "/glade/work/kjmayer/conda-envs/ViT_XAI/lib/python3.11/site-packages/distributed/client.py:3358: UserWarning: Sending large graph of size 2.45 GiB.\n",
      "This may cause some slowdown.\n",
      "Consider loading the data with Dask directly\n",
      " or using futures or delayed objects to embed the data into the graph without repetition.\n",
      "See also https://docs.dask.org/en/stable/best-practices.html#load-data-with-dask for more information.\n",
      "  warnings.warn(\n"
     ]
    },
    {
     "name": "stdout",
     "output_type": "stream",
     "text": [
      "012\n"
     ]
    },
    {
     "name": "stderr",
     "output_type": "stream",
     "text": [
      "/glade/work/kjmayer/conda-envs/ViT_XAI/lib/python3.11/site-packages/distributed/client.py:3358: UserWarning: Sending large graph of size 2.45 GiB.\n",
      "This may cause some slowdown.\n",
      "Consider loading the data with Dask directly\n",
      " or using futures or delayed objects to embed the data into the graph without repetition.\n",
      "See also https://docs.dask.org/en/stable/best-practices.html#load-data-with-dask for more information.\n",
      "  warnings.warn(\n"
     ]
    },
    {
     "name": "stdout",
     "output_type": "stream",
     "text": [
      "013\n"
     ]
    },
    {
     "name": "stderr",
     "output_type": "stream",
     "text": [
      "/glade/work/kjmayer/conda-envs/ViT_XAI/lib/python3.11/site-packages/distributed/client.py:3358: UserWarning: Sending large graph of size 2.45 GiB.\n",
      "This may cause some slowdown.\n",
      "Consider loading the data with Dask directly\n",
      " or using futures or delayed objects to embed the data into the graph without repetition.\n",
      "See also https://docs.dask.org/en/stable/best-practices.html#load-data-with-dask for more information.\n",
      "  warnings.warn(\n"
     ]
    },
    {
     "name": "stdout",
     "output_type": "stream",
     "text": [
      "014\n"
     ]
    },
    {
     "name": "stderr",
     "output_type": "stream",
     "text": [
      "/glade/work/kjmayer/conda-envs/ViT_XAI/lib/python3.11/site-packages/distributed/client.py:3358: UserWarning: Sending large graph of size 2.45 GiB.\n",
      "This may cause some slowdown.\n",
      "Consider loading the data with Dask directly\n",
      " or using futures or delayed objects to embed the data into the graph without repetition.\n",
      "See also https://docs.dask.org/en/stable/best-practices.html#load-data-with-dask for more information.\n",
      "  warnings.warn(\n"
     ]
    },
    {
     "name": "stdout",
     "output_type": "stream",
     "text": [
      "015\n"
     ]
    },
    {
     "name": "stderr",
     "output_type": "stream",
     "text": [
      "/glade/work/kjmayer/conda-envs/ViT_XAI/lib/python3.11/site-packages/distributed/client.py:3358: UserWarning: Sending large graph of size 2.45 GiB.\n",
      "This may cause some slowdown.\n",
      "Consider loading the data with Dask directly\n",
      " or using futures or delayed objects to embed the data into the graph without repetition.\n",
      "See also https://docs.dask.org/en/stable/best-practices.html#load-data-with-dask for more information.\n",
      "  warnings.warn(\n"
     ]
    },
    {
     "name": "stdout",
     "output_type": "stream",
     "text": [
      "016\n"
     ]
    },
    {
     "name": "stderr",
     "output_type": "stream",
     "text": [
      "/glade/work/kjmayer/conda-envs/ViT_XAI/lib/python3.11/site-packages/distributed/client.py:3358: UserWarning: Sending large graph of size 2.45 GiB.\n",
      "This may cause some slowdown.\n",
      "Consider loading the data with Dask directly\n",
      " or using futures or delayed objects to embed the data into the graph without repetition.\n",
      "See also https://docs.dask.org/en/stable/best-practices.html#load-data-with-dask for more information.\n",
      "  warnings.warn(\n"
     ]
    },
    {
     "name": "stdout",
     "output_type": "stream",
     "text": [
      "017\n"
     ]
    },
    {
     "name": "stderr",
     "output_type": "stream",
     "text": [
      "/glade/work/kjmayer/conda-envs/ViT_XAI/lib/python3.11/site-packages/distributed/client.py:3358: UserWarning: Sending large graph of size 2.45 GiB.\n",
      "This may cause some slowdown.\n",
      "Consider loading the data with Dask directly\n",
      " or using futures or delayed objects to embed the data into the graph without repetition.\n",
      "See also https://docs.dask.org/en/stable/best-practices.html#load-data-with-dask for more information.\n",
      "  warnings.warn(\n"
     ]
    },
    {
     "name": "stdout",
     "output_type": "stream",
     "text": [
      "018\n"
     ]
    },
    {
     "name": "stderr",
     "output_type": "stream",
     "text": [
      "/glade/work/kjmayer/conda-envs/ViT_XAI/lib/python3.11/site-packages/distributed/client.py:3358: UserWarning: Sending large graph of size 2.45 GiB.\n",
      "This may cause some slowdown.\n",
      "Consider loading the data with Dask directly\n",
      " or using futures or delayed objects to embed the data into the graph without repetition.\n",
      "See also https://docs.dask.org/en/stable/best-practices.html#load-data-with-dask for more information.\n",
      "  warnings.warn(\n"
     ]
    },
    {
     "name": "stdout",
     "output_type": "stream",
     "text": [
      "019\n"
     ]
    },
    {
     "name": "stderr",
     "output_type": "stream",
     "text": [
      "/glade/work/kjmayer/conda-envs/ViT_XAI/lib/python3.11/site-packages/distributed/client.py:3358: UserWarning: Sending large graph of size 2.45 GiB.\n",
      "This may cause some slowdown.\n",
      "Consider loading the data with Dask directly\n",
      " or using futures or delayed objects to embed the data into the graph without repetition.\n",
      "See also https://docs.dask.org/en/stable/best-practices.html#load-data-with-dask for more information.\n",
      "  warnings.warn(\n"
     ]
    },
    {
     "name": "stdout",
     "output_type": "stream",
     "text": [
      "020\n"
     ]
    },
    {
     "name": "stderr",
     "output_type": "stream",
     "text": [
      "/glade/work/kjmayer/conda-envs/ViT_XAI/lib/python3.11/site-packages/distributed/client.py:3358: UserWarning: Sending large graph of size 2.45 GiB.\n",
      "This may cause some slowdown.\n",
      "Consider loading the data with Dask directly\n",
      " or using futures or delayed objects to embed the data into the graph without repetition.\n",
      "See also https://docs.dask.org/en/stable/best-practices.html#load-data-with-dask for more information.\n",
      "  warnings.warn(\n"
     ]
    },
    {
     "name": "stdout",
     "output_type": "stream",
     "text": [
      "CPU times: user 3min 30s, sys: 1min 1s, total: 4min 31s\n",
      "Wall time: 9min 7s\n"
     ]
    }
   ],
   "source": [
    "%%time\n",
    "ens = ['011','012','013','014','015','016','017','018','019','020']\n",
    "for e in range(len(ens)):\n",
    "    print(ens[e])\n",
    "    ocn_detrended[e].to_netcdf(savepath+ocn+'/'+ocn+'_anom_'+ens[e]+'_1950-2014.nc')"
   ]
  },
  {
   "cell_type": "code",
   "execution_count": null,
   "id": "653f6f37-b718-4466-bf17-5dd316dbf38e",
   "metadata": {},
   "outputs": [],
   "source": []
  }
 ],
 "metadata": {
  "kernelspec": {
   "display_name": "Python [conda env:ViT_XAI]",
   "language": "python",
   "name": "conda-env-ViT_XAI-py"
  },
  "language_info": {
   "codemirror_mode": {
    "name": "ipython",
    "version": 3
   },
   "file_extension": ".py",
   "mimetype": "text/x-python",
   "name": "python",
   "nbconvert_exporter": "python",
   "pygments_lexer": "ipython3",
   "version": "3.11.9"
  }
 },
 "nbformat": 4,
 "nbformat_minor": 5
}
