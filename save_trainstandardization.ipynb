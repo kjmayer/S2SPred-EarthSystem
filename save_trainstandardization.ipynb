{
 "cells": [
  {
   "cell_type": "code",
   "execution_count": 1,
   "id": "5f96ae1f-175f-47b9-ad8c-8386e61ce80f",
   "metadata": {},
   "outputs": [
    {
     "name": "stderr",
     "output_type": "stream",
     "text": [
      "2023-07-18 09:56:09.401548: I tensorflow/core/platform/cpu_feature_guard.cc:193] This TensorFlow binary is optimized with oneAPI Deep Neural Network Library (oneDNN) to use the following CPU instructions in performance-critical operations:  AVX2 AVX512F FMA\n",
      "To enable them in other operations, rebuild TensorFlow with the appropriate compiler flags.\n",
      "2023-07-18 09:56:09.583930: E tensorflow/stream_executor/cuda/cuda_blas.cc:2981] Unable to register cuBLAS factory: Attempting to register factory for plugin cuBLAS when one has already been registered\n",
      "2023-07-18 09:56:10.466955: W tensorflow/stream_executor/platform/default/dso_loader.cc:64] Could not load dynamic library 'libnvinfer.so.7'; dlerror: libnvinfer.so.7: cannot open shared object file: No such file or directory; LD_LIBRARY_PATH: /glade/u/apps/dav/opt/cuda/11.4.0/extras/CUPTI/lib64:/glade/u/apps/dav/opt/cuda/11.4.0/lib64:/glade/u/apps/dav/opt/openmpi/4.1.1/intel/19.1.1/lib:/glade/u/apps/dav/opt/ucx/1.11.0/lib:/glade/u/apps/opt/intel/2020u1/compilers_and_libraries/linux/lib/intel64:/glade/u/home/kjmayer/.conda/envs/tf2-env/lib/\n",
      "2023-07-18 09:56:10.467101: W tensorflow/stream_executor/platform/default/dso_loader.cc:64] Could not load dynamic library 'libnvinfer_plugin.so.7'; dlerror: libnvinfer_plugin.so.7: cannot open shared object file: No such file or directory; LD_LIBRARY_PATH: /glade/u/apps/dav/opt/cuda/11.4.0/extras/CUPTI/lib64:/glade/u/apps/dav/opt/cuda/11.4.0/lib64:/glade/u/apps/dav/opt/openmpi/4.1.1/intel/19.1.1/lib:/glade/u/apps/dav/opt/ucx/1.11.0/lib:/glade/u/apps/opt/intel/2020u1/compilers_and_libraries/linux/lib/intel64:/glade/u/home/kjmayer/.conda/envs/tf2-env/lib/\n",
      "2023-07-18 09:56:10.467113: W tensorflow/compiler/tf2tensorrt/utils/py_utils.cc:38] TF-TRT Warning: Cannot dlopen some TensorRT libraries. If you would like to use Nvidia GPU with TensorRT, please make sure the missing libraries mentioned above are installed properly.\n"
     ]
    },
    {
     "data": {
      "text/plain": [
       "<dask.config.set at 0x2b6bdb55fc10>"
      ]
     },
     "execution_count": 1,
     "metadata": {},
     "output_type": "execute_result"
    }
   ],
   "source": [
    "import xarray as xr\n",
    "import numpy as np\n",
    "\n",
    "import build_model\n",
    "import experiments\n",
    "\n",
    "import dask\n",
    "import dask.array as da\n",
    "from dask_jobqueue import PBSCluster\n",
    "from dask.distributed import Client\n",
    "dask.config.set(**{'array.slicing.split_large_chunks': True})"
   ]
  },
  {
   "cell_type": "code",
   "execution_count": 2,
   "id": "9e082215-0522-4921-84df-83449a0b5d3f",
   "metadata": {},
   "outputs": [
    {
     "name": "stderr",
     "output_type": "stream",
     "text": [
      "/glade/u/home/kjmayer/.conda/envs/tf2-env/lib/python3.10/site-packages/dask_jobqueue/pbs.py:82: FutureWarning: project has been renamed to account as this kwarg was used wit -A option. You are still using it (please also check config files). If you did not set account yet, project will be respected for now, but it will be removed in a future release. If you already set account, project is ignored and you can remove it.\n",
      "  warnings.warn(warn, FutureWarning)\n",
      "/glade/u/home/kjmayer/.conda/envs/tf2-env/lib/python3.10/site-packages/dask_jobqueue/pbs.py:82: FutureWarning: project has been renamed to account as this kwarg was used wit -A option. You are still using it (please also check config files). If you did not set account yet, project will be respected for now, but it will be removed in a future release. If you already set account, project is ignored and you can remove it.\n",
      "  warnings.warn(warn, FutureWarning)\n"
     ]
    },
    {
     "data": {
      "text/html": [
       "<div>\n",
       "    <div style=\"width: 24px; height: 24px; background-color: #e1e1e1; border: 3px solid #9D9D9D; border-radius: 5px; position: absolute;\"> </div>\n",
       "    <div style=\"margin-left: 48px;\">\n",
       "        <h3 style=\"margin-bottom: 0px;\">Client</h3>\n",
       "        <p style=\"color: #9D9D9D; margin-bottom: 0px;\">Client-9e1b8b5a-2583-11ee-8257-a133e5b59510</p>\n",
       "        <table style=\"width: 100%; text-align: left;\">\n",
       "\n",
       "        <tr>\n",
       "        \n",
       "            <td style=\"text-align: left;\"><strong>Connection method:</strong> Cluster object</td>\n",
       "            <td style=\"text-align: left;\"><strong>Cluster type:</strong> dask_jobqueue.PBSCluster</td>\n",
       "        \n",
       "        </tr>\n",
       "\n",
       "        \n",
       "            <tr>\n",
       "                <td style=\"text-align: left;\">\n",
       "                    <strong>Dashboard: </strong> <a href=\"https://jupyterhub.hpc.ucar.edu/stable/user/kjmayer/Plot/proxy/8787/status\" target=\"_blank\">https://jupyterhub.hpc.ucar.edu/stable/user/kjmayer/Plot/proxy/8787/status</a>\n",
       "                </td>\n",
       "                <td style=\"text-align: left;\"></td>\n",
       "            </tr>\n",
       "        \n",
       "\n",
       "        </table>\n",
       "\n",
       "        \n",
       "            <details>\n",
       "            <summary style=\"margin-bottom: 20px;\"><h3 style=\"display: inline;\">Cluster Info</h3></summary>\n",
       "            <div class=\"jp-RenderedHTMLCommon jp-RenderedHTML jp-mod-trusted jp-OutputArea-output\">\n",
       "    <div style=\"width: 24px; height: 24px; background-color: #e1e1e1; border: 3px solid #9D9D9D; border-radius: 5px; position: absolute;\">\n",
       "    </div>\n",
       "    <div style=\"margin-left: 48px;\">\n",
       "        <h3 style=\"margin-bottom: 0px; margin-top: 0px;\">PBSCluster</h3>\n",
       "        <p style=\"color: #9D9D9D; margin-bottom: 0px;\">64a5f76f</p>\n",
       "        <table style=\"width: 100%; text-align: left;\">\n",
       "            <tr>\n",
       "                <td style=\"text-align: left;\">\n",
       "                    <strong>Dashboard:</strong> <a href=\"https://jupyterhub.hpc.ucar.edu/stable/user/kjmayer/Plot/proxy/8787/status\" target=\"_blank\">https://jupyterhub.hpc.ucar.edu/stable/user/kjmayer/Plot/proxy/8787/status</a>\n",
       "                </td>\n",
       "                <td style=\"text-align: left;\">\n",
       "                    <strong>Workers:</strong> 0\n",
       "                </td>\n",
       "            </tr>\n",
       "            <tr>\n",
       "                <td style=\"text-align: left;\">\n",
       "                    <strong>Total threads:</strong> 0\n",
       "                </td>\n",
       "                <td style=\"text-align: left;\">\n",
       "                    <strong>Total memory:</strong> 0 B\n",
       "                </td>\n",
       "            </tr>\n",
       "            \n",
       "        </table>\n",
       "\n",
       "        <details>\n",
       "            <summary style=\"margin-bottom: 20px;\">\n",
       "                <h3 style=\"display: inline;\">Scheduler Info</h3>\n",
       "            </summary>\n",
       "\n",
       "            <div style=\"\">\n",
       "    <div>\n",
       "        <div style=\"width: 24px; height: 24px; background-color: #FFF7E5; border: 3px solid #FF6132; border-radius: 5px; position: absolute;\"> </div>\n",
       "        <div style=\"margin-left: 48px;\">\n",
       "            <h3 style=\"margin-bottom: 0px;\">Scheduler</h3>\n",
       "            <p style=\"color: #9D9D9D; margin-bottom: 0px;\">Scheduler-36f86306-7c94-4545-96dd-f9ee5443690f</p>\n",
       "            <table style=\"width: 100%; text-align: left;\">\n",
       "                <tr>\n",
       "                    <td style=\"text-align: left;\">\n",
       "                        <strong>Comm:</strong> tcp://10.12.205.16:41990\n",
       "                    </td>\n",
       "                    <td style=\"text-align: left;\">\n",
       "                        <strong>Workers:</strong> 0\n",
       "                    </td>\n",
       "                </tr>\n",
       "                <tr>\n",
       "                    <td style=\"text-align: left;\">\n",
       "                        <strong>Dashboard:</strong> <a href=\"https://jupyterhub.hpc.ucar.edu/stable/user/kjmayer/Plot/proxy/8787/status\" target=\"_blank\">https://jupyterhub.hpc.ucar.edu/stable/user/kjmayer/Plot/proxy/8787/status</a>\n",
       "                    </td>\n",
       "                    <td style=\"text-align: left;\">\n",
       "                        <strong>Total threads:</strong> 0\n",
       "                    </td>\n",
       "                </tr>\n",
       "                <tr>\n",
       "                    <td style=\"text-align: left;\">\n",
       "                        <strong>Started:</strong> Just now\n",
       "                    </td>\n",
       "                    <td style=\"text-align: left;\">\n",
       "                        <strong>Total memory:</strong> 0 B\n",
       "                    </td>\n",
       "                </tr>\n",
       "            </table>\n",
       "        </div>\n",
       "    </div>\n",
       "\n",
       "    <details style=\"margin-left: 48px;\">\n",
       "        <summary style=\"margin-bottom: 20px;\">\n",
       "            <h3 style=\"display: inline;\">Workers</h3>\n",
       "        </summary>\n",
       "\n",
       "        \n",
       "\n",
       "    </details>\n",
       "</div>\n",
       "\n",
       "        </details>\n",
       "    </div>\n",
       "</div>\n",
       "            </details>\n",
       "        \n",
       "\n",
       "    </div>\n",
       "</div>"
      ],
      "text/plain": [
       "<Client: 'tcp://10.12.205.16:41990' processes=0 threads=0, memory=0 B>"
      ]
     },
     "execution_count": 2,
     "metadata": {},
     "output_type": "execute_result"
    }
   ],
   "source": [
    "cluster = PBSCluster(\n",
    "                    cores=1, \n",
    "                    memory='10GB', # Amount of memory\n",
    "                    processes=1, \n",
    "                    queue='casper', \n",
    "                    local_directory='$TMPDIR', # Use your local directory\n",
    "                    resource_spec='select=1:ncpus=1:mem=10GB', \n",
    "                    project='P06010014', \n",
    "                    walltime='10:00:00', \n",
    "                    interface='ib0', \n",
    "                    )\n",
    "\n",
    "# Scale up\n",
    "cluster.scale(5)\n",
    "\n",
    "client = Client(cluster)\n",
    "client"
   ]
  },
  {
   "cell_type": "code",
   "execution_count": 25,
   "id": "7f3670b8-249e-48d1-948e-070328880033",
   "metadata": {},
   "outputs": [
    {
     "name": "stderr",
     "output_type": "stream",
     "text": [
      "/glade/u/home/kjmayer/.conda/envs/tf2-env/lib/python3.10/site-packages/dask_jobqueue/pbs.py:82: FutureWarning: project has been renamed to account as this kwarg was used wit -A option. You are still using it (please also check config files). If you did not set account yet, project will be respected for now, but it will be removed in a future release. If you already set account, project is ignored and you can remove it.\n",
      "  warnings.warn(warn, FutureWarning)\n"
     ]
    }
   ],
   "source": [
    "# client.shutdown()"
   ]
  },
  {
   "cell_type": "code",
   "execution_count": 4,
   "id": "d6293cc7-2bc7-48d3-b016-997966b744bf",
   "metadata": {},
   "outputs": [],
   "source": [
    "datapath = '/glade/scratch/kjmayer/DATA/CESM2-LE/HIST/'\n",
    "\n",
    "atm = 'Z500'\n",
    "ocn = 'TS'\n",
    "lnd = 'SOILWATER_10CM'\n",
    "\n",
    "ens_strt = '1231' # max\n",
    "atm_finame = atm+'_mem*_strt'+ens_strt+'_1950-2014_check.nc'\n",
    "lnd_finame = lnd+'_mem*_strt'+ens_strt+'_1950-2014_check.nc'\n",
    "ocn_finame = ocn+'_mem*_strt'+ens_strt+'_1950-2014_check.nc'"
   ]
  },
  {
   "cell_type": "code",
   "execution_count": 5,
   "id": "f16ab809-4d03-4281-a7bc-a9f3d99c4352",
   "metadata": {},
   "outputs": [],
   "source": [
    "# atmosphere = z500\n",
    "x1 = xr.open_mfdataset(datapath+'z500'+'/'+atm_finame,\n",
    "                       concat_dim = 'ens',\n",
    "                       combine=\"nested\",\n",
    "                       )[atm]\n",
    "# land = soil water 10cm\n",
    "x2 = xr.open_mfdataset(datapath+lnd+'/'+lnd_finame,\n",
    "                       concat_dim = 'ens',\n",
    "                       combine=\"nested\",\n",
    "                       )[lnd]\n",
    "# ocean = skin temperature\n",
    "x3 = xr.open_mfdataset(datapath+ocn+'/'+ocn_finame,\n",
    "                       concat_dim = 'ens',\n",
    "                       combine=\"nested\",\n",
    "                       )['__xarray_dataarray_variable__']"
   ]
  },
  {
   "cell_type": "markdown",
   "id": "3007efc8-c88c-48d0-bb9d-ead1b6d9be7c",
   "metadata": {},
   "source": [
    "## Standardization:\n",
    "decided to keep seasonal cycle within data - therefore, removed grid point mean & standard deviation across ens members rather than for each doy\n",
    "\n",
    "!! another option to test: remove seasonal cycle, but add (normalized) doy to flattened layer"
   ]
  },
  {
   "cell_type": "code",
   "execution_count": 7,
   "id": "4b3005f9-21cb-48dd-b244-ef50d2d9c93b",
   "metadata": {},
   "outputs": [],
   "source": [
    "x1train = x1[:8].compute()\n",
    "x1train_mean = x1train.mean('ens').compute()\n",
    "x1train_std = x1train.std('ens').compute()\n",
    "\n",
    "# x1train = x1train.stack(alltime=('ens','time'))\n",
    "# x1train = x1train.compute()\n",
    "# x1train_mean = x1train.mean('alltime').compute()\n",
    "# x1train_std = x1train.std('alltime').compute()\n",
    "\n",
    "del x1train\n",
    "\n",
    "# Save mean & std:\n",
    "x1_ds = xr.Dataset(data_vars=dict(\n",
    "                    trainmean=([\"time\",\"lat\", \"lon\"], x1train_mean.data),\n",
    "                    trainstd=([\"time\",\"lat\", \"lon\"], x1train_std.data),\n",
    "                ),\n",
    "                coords=dict(\n",
    "                    time=([\"time\"], x1train_mean.time.data),\n",
    "                    lon=([\"lon\"], x1train_mean.lon.data),\n",
    "                    lat=([\"lat\"], x1train_mean.lat.data)\n",
    "                ),\n",
    "                attrs=dict(description=\"z500 members 11-18; start year 1231\"),\n",
    "            )\n",
    "\n",
    "x1_ds.to_netcdf(datapath+'z500'+'/'+atm+'_meanstd_mem11-18_strt'+ens_strt+'_1950-2014_check.nc')\n",
    "\n",
    "# x1train_std = (x1train - x1train_mean)/x1train_std"
   ]
  },
  {
   "cell_type": "code",
   "execution_count": 8,
   "id": "a53af091-f36c-4a9e-b6d2-2fdaffb1fa21",
   "metadata": {},
   "outputs": [],
   "source": [
    "x2train = x2[:8].compute()\n",
    "x2train_mean = x2train.mean('ens').compute()\n",
    "x2train_std = x2train.std('ens').compute()\n",
    "\n",
    "# x2train = x2train.stack(alltime=['ens','time'])\n",
    "# x2train = x2train.compute()\n",
    "# x2train_mean = x2train.mean('alltime').compute()\n",
    "# x2train_std = x2train.std('alltime').compute()\n",
    "\n",
    "del x2train\n",
    "\n",
    "# Save mean & std:\n",
    "x2_ds = xr.Dataset(data_vars=dict(\n",
    "                    trainmean=([\"time\",\"lat\", \"lon\"], x2train_mean.data),\n",
    "                    trainstd=([\"time\",\"lat\", \"lon\"], x2train_std.data),\n",
    "                ),\n",
    "                coords=dict(\n",
    "                    time=([\"time\"], x2train_mean.time.data),\n",
    "                    lon=([\"lon\"], x2train_mean.lon.data),\n",
    "                    lat=([\"lat\"], x2train_mean.lat.data)\n",
    "                ),\n",
    "                attrs=dict(description=\"SOILWATER_10CM members 11-18; start year 1231\"),\n",
    "            )\n",
    "\n",
    "x2_ds.to_netcdf(datapath+lnd+'/'+lnd+'_meanstd_mem11-18_strt'+ens_strt+'_1950-2014_check.nc')\n",
    "\n",
    "# x2train_std = (x2train - x2train_mean)/x2train_std"
   ]
  },
  {
   "cell_type": "code",
   "execution_count": 9,
   "id": "679f9248-e36a-4f9c-b464-4d115f5cb303",
   "metadata": {},
   "outputs": [],
   "source": [
    "x3train = x3[:8].compute()\n",
    "x3train_mean = x3train.mean('ens').compute()\n",
    "x3train_std = x3train.std('ens').compute()\n",
    "\n",
    "# x3train = x3train.stack(alltime=['ens','time'])\n",
    "# x3train = x3train.compute()\n",
    "# x3train_mean = x3train.mean('alltime').compute()\n",
    "# x3train_std = x3train.std('alltime').compute()\n",
    "\n",
    "del x3train\n",
    "\n",
    "# Save mean & std:\n",
    "x3_ds = xr.Dataset(data_vars=dict(\n",
    "                    trainmean=([\"time\",\"lat\", \"lon\"], x3train_mean.data),\n",
    "                    trainstd=([\"time\",\"lat\", \"lon\"], x3train_std.data),\n",
    "                ),\n",
    "                coords=dict(\n",
    "                    time=([\"time\"], x3train_mean.time.data),\n",
    "                    lon=([\"lon\"], x3train_mean.lon.data),\n",
    "                    lat=([\"lat\"], x3train_mean.lat.data)\n",
    "                ),\n",
    "                attrs=dict(description=\"TS members 11-18; start year 1231\"),\n",
    "            )\n",
    "\n",
    "x3_ds.to_netcdf(datapath+ocn+'/'+ocn+'_meanstd_mem11-18_strt'+ens_strt+'_1950-2014_check.nc')\n",
    "\n",
    "# x3train_std = (x3train - x3train_mean)/x3train_std"
   ]
  },
  {
   "cell_type": "code",
   "execution_count": null,
   "id": "7c2db264-ea42-4d42-8d6c-e25a34dcfe52",
   "metadata": {},
   "outputs": [],
   "source": []
  }
 ],
 "metadata": {
  "kernelspec": {
   "display_name": "Python [conda env:.conda-tf2-env]",
   "language": "python",
   "name": "conda-env-.conda-tf2-env-py"
  },
  "language_info": {
   "codemirror_mode": {
    "name": "ipython",
    "version": 3
   },
   "file_extension": ".py",
   "mimetype": "text/x-python",
   "name": "python",
   "nbconvert_exporter": "python",
   "pygments_lexer": "ipython3",
   "version": "3.10.4"
  }
 },
 "nbformat": 4,
 "nbformat_minor": 5
}
