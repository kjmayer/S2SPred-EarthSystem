{
 "cells": [
  {
   "cell_type": "code",
   "execution_count": 1,
   "id": "959cb75a-32de-4d34-bcdc-4687a1c9f155",
   "metadata": {},
   "outputs": [],
   "source": [
    "base_dir = '/glade/work/kjmayer/research/catalyst/S2S_ocn_lnd_atm/'"
   ]
  },
  {
   "cell_type": "code",
   "execution_count": 2,
   "id": "186b954f-dd38-495a-a5e7-30b0cced502b",
   "metadata": {},
   "outputs": [],
   "source": [
    "import xarray as xr\n",
    "import numpy as np\n",
    "import random\n",
    "import matplotlib.pyplot as plt\n",
    "\n",
    "import torch\n",
    "import torchinfo\n",
    "import torch.nn.functional as F\n",
    "from torch.utils.data import DataLoader, TensorDataset\n",
    "\n",
    "from model.train_utils import NeuralNetwork\n",
    "import utils.utils\n",
    "from utils.utils import get_config\n",
    "from utils.utils import prepare_device\n",
    "from trainer.trainer import Trainer\n",
    "import model.metrics as module_metric\n",
    "from data_prep.data_loader import GetXData, GetYData, CustomDataset,lead_shift, concat_input"
   ]
  },
  {
   "cell_type": "code",
   "execution_count": 3,
   "id": "9b1c9670-cf98-4379-bf1c-0cc3be7bcb80",
   "metadata": {},
   "outputs": [
    {
     "data": {
      "text/plain": [
       "'NVIDIA A100-SXM4-80GB'"
      ]
     },
     "execution_count": 3,
     "metadata": {},
     "output_type": "execute_result"
    }
   ],
   "source": [
    "# torch.cuda.is_available()\n",
    "# torch.cuda.device_count()\n",
    "# torch.cuda.current_device()\n",
    "# torch.cuda.device(0)\n",
    "torch.cuda.get_device_name(0)"
   ]
  },
  {
   "cell_type": "code",
   "execution_count": 34,
   "id": "56953f61-bc6e-477e-bcce-6a5cf23d21f3",
   "metadata": {},
   "outputs": [],
   "source": [
    "config = get_config(\"exp_1\")\n",
    "\n",
    "torch.manual_seed(config[\"seed\"])\n",
    "torch.cuda.manual_seed(config[\"seed\"])\n",
    "np.random.seed(config[\"seed\"])\n",
    "random.seed(config[\"seed\"])\n",
    "torch.backends.cudnn.deterministic = True"
   ]
  },
  {
   "cell_type": "code",
   "execution_count": 17,
   "id": "3e0c151f-25a5-4d4c-ad70-d1f3ddd432a0",
   "metadata": {},
   "outputs": [
    {
     "name": "stderr",
     "output_type": "stream",
     "text": [
      "/glade/work/wchapman/miniconda3.1/envs/MLWPS/lib/python3.11/site-packages/xarray/core/variable.py:1546: PerformanceWarning: Reshaping is producing a large chunk. To accept the large\n",
      "chunk and silence this warning, set the option\n",
      "    >>> with dask.config.set(**{'array.slicing.split_large_chunks': False}):\n",
      "    ...     array.reshape(shape)\n",
      "\n",
      "To avoid creating the large chunks, set the option\n",
      "    >>> with dask.config.set(**{'array.slicing.split_large_chunks': True}):\n",
      "    ...     array.reshape(shape)Explictly passing ``limit`` to ``reshape`` will also silence this warning\n",
      "    >>> array.reshape(shape, limit='128 MiB')\n",
      "  result = result._stack_once(dims, new_dim)\n",
      "/glade/work/wchapman/miniconda3.1/envs/MLWPS/lib/python3.11/site-packages/xarray/core/variable.py:1546: PerformanceWarning: Reshaping is producing a large chunk. To accept the large\n",
      "chunk and silence this warning, set the option\n",
      "    >>> with dask.config.set(**{'array.slicing.split_large_chunks': False}):\n",
      "    ...     array.reshape(shape)\n",
      "\n",
      "To avoid creating the large chunks, set the option\n",
      "    >>> with dask.config.set(**{'array.slicing.split_large_chunks': True}):\n",
      "    ...     array.reshape(shape)Explictly passing ``limit`` to ``reshape`` will also silence this warning\n",
      "    >>> array.reshape(shape, limit='128 MiB')\n",
      "  result = result._stack_once(dims, new_dim)\n",
      "/glade/work/wchapman/miniconda3.1/envs/MLWPS/lib/python3.11/site-packages/xarray/core/variable.py:1546: PerformanceWarning: Reshaping is producing a large chunk. To accept the large\n",
      "chunk and silence this warning, set the option\n",
      "    >>> with dask.config.set(**{'array.slicing.split_large_chunks': False}):\n",
      "    ...     array.reshape(shape)\n",
      "\n",
      "To avoid creating the large chunks, set the option\n",
      "    >>> with dask.config.set(**{'array.slicing.split_large_chunks': True}):\n",
      "    ...     array.reshape(shape)Explictly passing ``limit`` to ``reshape`` will also silence this warning\n",
      "    >>> array.reshape(shape, limit='128 MiB')\n",
      "  result = result._stack_once(dims, new_dim)\n",
      "/glade/work/wchapman/miniconda3.1/envs/MLWPS/lib/python3.11/site-packages/xarray/core/variable.py:1546: PerformanceWarning: Reshaping is producing a large chunk. To accept the large\n",
      "chunk and silence this warning, set the option\n",
      "    >>> with dask.config.set(**{'array.slicing.split_large_chunks': False}):\n",
      "    ...     array.reshape(shape)\n",
      "\n",
      "To avoid creating the large chunks, set the option\n",
      "    >>> with dask.config.set(**{'array.slicing.split_large_chunks': True}):\n",
      "    ...     array.reshape(shape)Explictly passing ``limit`` to ``reshape`` will also silence this warning\n",
      "    >>> array.reshape(shape, limit='128 MiB')\n",
      "  result = result._stack_once(dims, new_dim)\n",
      "/glade/work/wchapman/miniconda3.1/envs/MLWPS/lib/python3.11/site-packages/xarray/core/variable.py:1546: PerformanceWarning: Reshaping is producing a large chunk. To accept the large\n",
      "chunk and silence this warning, set the option\n",
      "    >>> with dask.config.set(**{'array.slicing.split_large_chunks': False}):\n",
      "    ...     array.reshape(shape)\n",
      "\n",
      "To avoid creating the large chunks, set the option\n",
      "    >>> with dask.config.set(**{'array.slicing.split_large_chunks': True}):\n",
      "    ...     array.reshape(shape)Explictly passing ``limit`` to ``reshape`` will also silence this warning\n",
      "    >>> array.reshape(shape, limit='128 MiB')\n",
      "  result = result._stack_once(dims, new_dim)\n",
      "/glade/work/wchapman/miniconda3.1/envs/MLWPS/lib/python3.11/site-packages/xarray/core/variable.py:1546: PerformanceWarning: Reshaping is producing a large chunk. To accept the large\n",
      "chunk and silence this warning, set the option\n",
      "    >>> with dask.config.set(**{'array.slicing.split_large_chunks': False}):\n",
      "    ...     array.reshape(shape)\n",
      "\n",
      "To avoid creating the large chunks, set the option\n",
      "    >>> with dask.config.set(**{'array.slicing.split_large_chunks': True}):\n",
      "    ...     array.reshape(shape)Explictly passing ``limit`` to ``reshape`` will also silence this warning\n",
      "    >>> array.reshape(shape, limit='128 MiB')\n",
      "  result = result._stack_once(dims, new_dim)\n"
     ]
    }
   ],
   "source": [
    "LEAD = config[\"data_loader\"][\"lead\"][0] # will loop over this for training eventually\n",
    "trainfinames = config[\"data_loader\"][\"anommems_finames\"][0:6]\n",
    "valfinames = config[\"data_loader\"][\"anommems_finames\"][6:8]\n",
    "\n",
    "xtrain, xtrainmean, xtrainstd, xtrainmin, xtrainmax = GetXData(dir=config[\"data_loader\"][\"base_dir\"],\n",
    "                                                              var=config[\"data_loader\"][\"atm_var\"],\n",
    "                                                              finames=trainfinames,\n",
    "                                                              train=True,\n",
    "                                                              climo=False)[0]\n",
    "# xtrain = xtrain.stack(l=('lat','lon'))\n",
    "xtrain_shift = lead_shift(xtrain, lead=LEAD, forward=False)\n",
    "\n",
    "ytrain, ytrainmean, ytrainstd = GetYData(dir=config[\"data_loader\"][\"base_dir\"],\n",
    "                                         var=config[\"data_loader\"][\"atm_var\"],\n",
    "                                         finames=trainfinames,\n",
    "                                         train=True)[0]\n",
    "\n",
    "ytrain = ytrain.sel(lat=slice(29,61))\n",
    "ytrain = ytrain.stack(l=('lat','lon'))\n",
    "ytrain_shift = lead_shift(ytrain, lead=LEAD, forward=True)\n",
    "\n",
    "xval = GetXData(dir=config[\"data_loader\"][\"base_dir\"],\n",
    "               var=config[\"data_loader\"][\"atm_var\"],\n",
    "               finames=valfinames,\n",
    "               train=False,\n",
    "               trainmean=xtrainmean,\n",
    "               trainstd=xtrainstd,\n",
    "               trainmin=xtrainmin,\n",
    "               trainmax=xtrainmax,\n",
    "               climo=False)[0]\n",
    "# \n",
    "xval_shift = lead_shift(xval, lead=LEAD, forward=False)\n",
    "\n",
    "yval = GetYData(dir=config[\"data_loader\"][\"base_dir\"],\n",
    "                var=config[\"data_loader\"][\"atm_var\"],\n",
    "                finames=trainfinames,\n",
    "                train=False,\n",
    "                trainmean=ytrainmean,\n",
    "                trainstd=ytrainstd)[0]\n",
    "\n",
    "yval = yval.sel(lat=slice(29,61))\n",
    "yval = yval.stack(l=('lat','lon'))\n",
    "yval_shift = lead_shift(yval, lead=LEAD, forward=True)\n",
    "\n",
    "\n",
    "# climo (same for train, val, and test --> basically a DOY encoder)\n",
    "xclimo, climomin, climomax = GetXData(dir = config[\"data_loader\"][\"base_dir\"],\n",
    "                                     var = config[\"data_loader\"][\"atm_var\"],\n",
    "                                     finames = config[\"data_loader\"][\"climo_finame\"],\n",
    "                                     train = False, # MUST ALWAYS BE False FOR CLIMO\n",
    "                                     climo = True)[0]\n",
    "# climo appended to same length as training\n",
    "xclimo = xclimo.rename({'dayofyear': 'time'})\n",
    "xclimo_train = xr.concat([xclimo]*int(xtrain.shape[0]/365),dim='mem')\n",
    "xclimo_train = xclimo_train.stack(s=('mem','time')).transpose('s', 'lat', 'lon').reset_index(['s'])\n",
    "xclimo_train_shift = lead_shift(xclimo_train,lead=LEAD,forward=False)\n",
    "\n",
    "# climo appended to same length as validation\n",
    "xclimo_val = xr.concat([xclimo]*int(xval.shape[0]/365),dim='mem')\n",
    "xclimo_val = xclimo_val.stack(s=('mem','time')).transpose('s', 'lat', 'lon').reset_index(['s'])\n",
    "xclimo_val_shift = lead_shift(xclimo_val,lead=LEAD,forward=False)"
   ]
  },
  {
   "cell_type": "code",
   "execution_count": 18,
   "id": "fea1995c-49af-4621-8b7f-3b7a10d2659a",
   "metadata": {},
   "outputs": [],
   "source": [
    "Xtrain = concat_input(xtrain_shift,xclimo_train_shift,dim_name='features').values\n",
    "del xtrain_shift,xclimo_train_shift\n",
    "Xval = concat_input(xval_shift,xclimo_val_shift,dim_name='features').values\n",
    "del xval_shift,xclimo_val_shift\n",
    "Ytrain = ytrain_shift.values\n",
    "del ytrain_shift\n",
    "Yval = yval_shift.values\n",
    "del yval_shift"
   ]
  },
  {
   "cell_type": "code",
   "execution_count": 19,
   "id": "56bbd262-3ba4-44f5-b4a1-1f3f60a104f1",
   "metadata": {},
   "outputs": [],
   "source": [
    "## Prep training and validation for ANN\n",
    "training_data = CustomDataset(Xtrain,Ytrain) #xtrain, ytrain need to be numpy, not xarray\n",
    "val_data = CustomDataset(Xval,Yval)\n",
    "\n",
    "#[batch_size,channels,lat,lon]\n",
    "train_dataloader = DataLoader(training_data,batch_size = config[\"data_loader\"][\"batch_size\"],shuffle=True)\n",
    "val_dataloader  = DataLoader(val_data,batch_size = config[\"data_loader\"][\"batch_size\"],shuffle=True)"
   ]
  },
  {
   "cell_type": "code",
   "execution_count": 20,
   "id": "8beea90f-9f06-4079-960f-7bacc718d7c0",
   "metadata": {},
   "outputs": [
    {
     "name": "stdout",
     "output_type": "stream",
     "text": [
      "torch.Size([2, 96, 144])\n",
      "torch.Size([2448])\n",
      "torch.Size([32, 2, 96, 144])\n",
      "torch.Size([32, 2448])\n"
     ]
    }
   ],
   "source": [
    "# check shapes\n",
    "for input, output in training_data:\n",
    "    print(np.shape(input))\n",
    "    print(np.shape(output))\n",
    "    break\n",
    "\n",
    "train_features, train_labels = next(iter(train_dataloader))\n",
    "print(np.shape(train_features))\n",
    "print(np.shape(train_labels))"
   ]
  },
  {
   "cell_type": "code",
   "execution_count": 59,
   "id": "11a40d16-8128-4396-9eed-cd274813ff00",
   "metadata": {},
   "outputs": [
    {
     "name": "stdout",
     "output_type": "stream",
     "text": [
      "{'type': 'cnn', 'circular_padding': [5, 5, 0, 0], 'n_inputchannel': 2, 'filters': [32, 32], 'kernel_size': [5, 5], 'cnn_act': ['ReLU', 'ReLU'], 'hiddens_block_in': [7680, 100], 'hiddens_block': [100], 'hiddens_block_act': ['ReLU'], 'hiddens_final': 2448, 'hiddens_final_in': 100, 'hiddens_final_act': False}\n",
      "device available : True\n",
      "device count:  1\n",
      "current device:  0\n",
      "device name:  NVIDIA A100-SXM4-80GB\n",
      "NVIDIA A100-SXM4-80GB\n",
      "Memory Usage:\n",
      "Allocated: 0.1 GB\n",
      "Cached:    1.5 GB\n",
      "using device:  cuda\n",
      "===================================================================================================================\n",
      "Layer (type:depth-idx)                   Input Shape               Output Shape              Param #\n",
      "===================================================================================================================\n",
      "NeuralNetwork                            [128, 2, 96, 144]         [128, 2448]               --\n",
      "├─CircularPad2d: 1-1                     [128, 2, 96, 144]         [128, 2, 96, 154]         --\n",
      "├─Sequential: 1-2                        [128, 2, 96, 154]         [128, 32, 24, 39]         --\n",
      "│    └─Sequential: 2-1                   [128, 2, 96, 154]         [128, 32, 48, 77]         --\n",
      "│    │    └─Conv2d: 3-1                  [128, 2, 96, 154]         [128, 32, 96, 154]        1,632\n",
      "│    │    └─ReLU: 3-2                    [128, 32, 96, 154]        [128, 32, 96, 154]        --\n",
      "│    │    └─MaxPool2d: 3-3               [128, 32, 96, 154]        [128, 32, 48, 77]         --\n",
      "│    └─Sequential: 2-2                   [128, 32, 48, 77]         [128, 32, 24, 39]         --\n",
      "│    │    └─Conv2d: 3-4                  [128, 32, 48, 77]         [128, 32, 48, 77]         25,632\n",
      "│    │    └─ReLU: 3-5                    [128, 32, 48, 77]         [128, 32, 48, 77]         --\n",
      "│    │    └─MaxPool2d: 3-6               [128, 32, 48, 77]         [128, 32, 24, 39]         --\n",
      "├─Flatten: 1-3                           [128, 32, 24, 39]         [128, 29952]              --\n",
      "├─Sequential: 1-4                        [128, 29952]              [128, 100]                --\n",
      "│    └─Sequential: 2-3                   [128, 29952]              [128, 100]                --\n",
      "│    │    └─Linear: 3-7                  [128, 29952]              [128, 100]                2,995,300\n",
      "│    │    └─ReLU: 3-8                    [128, 100]                [128, 100]                --\n",
      "├─Sequential: 1-5                        [128, 100]                [128, 2448]               --\n",
      "│    └─Linear: 2-4                       [128, 100]                [128, 2448]               247,248\n",
      "===================================================================================================================\n",
      "Total params: 3,269,812\n",
      "Trainable params: 3,269,812\n",
      "Non-trainable params: 0\n",
      "Total mult-adds (Units.GIGABYTES): 15.63\n",
      "===================================================================================================================\n",
      "Input size (MB): 14.16\n",
      "Forward/backward pass size (MB): 608.16\n",
      "Params size (MB): 13.08\n",
      "Estimated Total Size (MB): 635.40\n",
      "===================================================================================================================\n",
      "Epoch   0/30\n",
      "  22.9s - train_loss: 0.96602 - val_loss: 1.08692\n",
      "Epoch   1/30\n",
      "  22.6s - train_loss: 0.85249 - val_loss: 1.17535\n",
      "Epoch   2/30\n",
      "  23.1s - train_loss: 0.79852 - val_loss: 1.21305\n",
      "Epoch   3/30\n",
      "  22.6s - train_loss: 0.76604 - val_loss: 1.23997\n",
      "Epoch   4/30\n",
      "  22.8s - train_loss: 0.74075 - val_loss: 1.26668\n",
      "Epoch   5/30\n",
      "  23.0s - train_loss: 0.71968 - val_loss: 1.28276\n",
      "Epoch   6/30\n",
      "  22.8s - train_loss: 0.70144 - val_loss: 1.30131\n",
      "Epoch   7/30\n",
      "  22.9s - train_loss: 0.68552 - val_loss: 1.31807\n",
      "Epoch   8/30\n",
      "  23.3s - train_loss: 0.67144 - val_loss: 1.32976\n",
      "Epoch   9/30\n",
      "  23.0s - train_loss: 0.65906 - val_loss: 1.34230\n",
      "Restoring model weights from the end of the best epoch 0: val_loss = 1.08692\n",
      "  epoch = 0.00000\n",
      "  loss = 0.96602\n",
      "  val_loss = 1.08692\n",
      "  MAE = 0.76824\n",
      "  val_MAE = 0.81470\n"
     ]
    }
   ],
   "source": [
    "## create NN architecture\n",
    "config = get_config(\"exp_1\")\n",
    "# print(config[\"arch_atm\"])\n",
    "model = NeuralNetwork(config=config[\"arch_atm\"])\n",
    "\n",
    "## grab optimizer and loss \n",
    "optimizer = getattr(torch.optim, config[\"optimizer\"][\"type\"])(\n",
    "    model.parameters(), **config[\"optimizer\"][\"args\"]\n",
    ")\n",
    "criterion = getattr(torch.nn, config[\"criterion\"])()\n",
    "\n",
    "metric_funcs = [getattr(module_metric, met) for met in config[\"metrics\"]]\n",
    "\n",
    "## Build the trainer\n",
    "device = prepare_device(config[\"device\"])\n",
    "trainer = Trainer(\n",
    "    model,\n",
    "    criterion,\n",
    "    metric_funcs,\n",
    "    optimizer,\n",
    "    max_epochs=config[\"trainer\"][\"max_epochs\"],\n",
    "    data=train_dataloader,\n",
    "    validation_data=val_dataloader,\n",
    "    device=device,\n",
    "    config=config,\n",
    ")\n",
    "\n",
    "# Visualize the model\n",
    "torchinfo.summary(\n",
    "    model,\n",
    "    input_size=(config[\"data_loader\"][\"batch_size\"], 2, 96, 144),\n",
    "    verbose=1,\n",
    "    col_names=(\"input_size\", \"output_size\", \"num_params\"),\n",
    ")\n",
    "\n",
    "#Train the Model\n",
    "model.to(device)\n",
    "trainer.fit()"
   ]
  },
  {
   "cell_type": "code",
   "execution_count": 60,
   "id": "5a2b8773-4894-4e8c-97fb-5c6ee580933e",
   "metadata": {},
   "outputs": [
    {
     "name": "stdout",
     "output_type": "stream",
     "text": [
      "dict_keys(['epoch', 'loss', 'val_loss', 'MAE', 'val_MAE'])\n"
     ]
    },
    {
     "data": {
      "image/png": "[encoded data removed]",
      "text/plain": [
       "<Figure size 2000x400 with 2 Axes>"
      ]
     },
     "metadata": {},
     "output_type": "display_data"
    }
   ],
   "source": [
    "print(trainer.log.history.keys())\n",
    "\n",
    "plt.figure(figsize=(20, 4))\n",
    "for i, m in enumerate((\"loss\", *config[\"metrics\"])):\n",
    "    plt.subplot(1, 4, i + 1)\n",
    "    plt.plot(trainer.log.history[\"epoch\"], trainer.log.history[m], label=m)\n",
    "    plt.plot(\n",
    "        trainer.log.history[\"epoch\"], trainer.log.history[\"val_\" + m], label=\"val_\" + m\n",
    "    )\n",
    "    plt.axvline(\n",
    "        x=trainer.early_stopper.best_epoch, linestyle=\"--\", color=\"k\", linewidth=0.75\n",
    "    )\n",
    "    plt.title(m)\n",
    "    plt.legend()\n",
    "plt.tight_layout()\n",
    "plt.show()"
   ]
  },
  {
   "cell_type": "code",
   "execution_count": 48,
   "id": "8a9d02f2-5e38-4fdd-baef-254e5ba09ed9",
   "metadata": {},
   "outputs": [],
   "source": [
    "with torch.inference_mode():\n",
    "    val_pred = model.predict(dataset=val_data, batch_size=config[\"data_loader\"][\"batch_size\"], device=device)"
   ]
  },
  {
   "cell_type": "code",
   "execution_count": 49,
   "id": "822eb300-aab4-489e-9df0-4321509f33f1",
   "metadata": {},
   "outputs": [
    {
     "name": "stdout",
     "output_type": "stream",
     "text": [
      "(47449, 2448)\n",
      "(2448,)\n"
     ]
    }
   ],
   "source": [
    "print(np.shape(val_pred))\n",
    "print(np.shape(val_pred[0]))"
   ]
  },
  {
   "cell_type": "code",
   "execution_count": 55,
   "id": "287aac18-f62b-48a7-a27a-cc874a581c09",
   "metadata": {},
   "outputs": [],
   "source": [
    "# ytrainmax = xtrainmax.sel(lat=slice(29,61)).values\n",
    "# ytrainmin = xtrainmin.sel(lat=slice(29,61)).values"
   ]
  },
  {
   "cell_type": "code",
   "execution_count": 51,
   "id": "91f48b20-04fe-4fe2-a741-2a480d17a37f",
   "metadata": {},
   "outputs": [],
   "source": [
    "isample = 133"
   ]
  },
  {
   "cell_type": "code",
   "execution_count": 52,
   "id": "13b3bab7-096b-4b67-a54f-9d67ee6a2b96",
   "metadata": {},
   "outputs": [],
   "source": [
    "val_pred_reshape = val_pred[isample].reshape((17,144))\n",
    "# val_pred_denorm = (val_pred_reshape*(ytrainmax-ytrainmin)) + ytrainmin\n",
    "\n",
    "Yval_reshape = Yval[isample].reshape((17,144))\n",
    "# Yval_denorm = (Yval_reshape*(ytrainmax-ytrainmin)) + ytrainmin"
   ]
  },
  {
   "cell_type": "code",
   "execution_count": 53,
   "id": "8cfaa70e-a81f-43e5-8882-a80f64cb6b9f",
   "metadata": {},
   "outputs": [
    {
     "data": {
      "text/plain": [
       "<matplotlib.colorbar.Colorbar at 0x14915826e4d0>"
      ]
     },
     "execution_count": 53,
     "metadata": {},
     "output_type": "execute_result"
    },
    {
     "data": {
      "image/png": "[encoded data removed]",
      "text/plain": [
       "<Figure size 640x480 with 2 Axes>"
      ]
     },
     "metadata": {},
     "output_type": "display_data"
    }
   ],
   "source": [
    "plt.imshow(val_pred_reshape,origin='lower',cmap='RdBu_r',vmin=-3,vmax=3)\n",
    "plt.colorbar(orientation='horizontal')"
   ]
  },
  {
   "cell_type": "code",
   "execution_count": 54,
   "id": "f9390fea-a989-4b8f-93c0-3d7e49ed2bb9",
   "metadata": {},
   "outputs": [
    {
     "data": {
      "text/plain": [
       "<matplotlib.colorbar.Colorbar at 0x1491582c9150>"
      ]
     },
     "execution_count": 54,
     "metadata": {},
     "output_type": "execute_result"
    },
    {
     "data": {
      "image/png": "[encoded data removed]",
      "text/plain": [
       "<Figure size 640x480 with 2 Axes>"
      ]
     },
     "metadata": {},
     "output_type": "display_data"
    }
   ],
   "source": [
    "plt.imshow(Yval_reshape,origin='lower',cmap='RdBu_r',vmin=-3,vmax=3)\n",
    "plt.colorbar(orientation='horizontal')"
   ]
  },
  {
   "cell_type": "code",
   "execution_count": null,
   "id": "ca35cc32-3d95-4c76-b32f-f6cf3dcebe60",
   "metadata": {},
   "outputs": [],
   "source": [
    "# compare\n",
    "ydiff = val_pred_reshape - Yval_reshape\n",
    "plt.imshow(ydiff,origin='lower',cmap='RdBu_r')\n",
    "plt.colorbar(orientation='horizontal')"
   ]
  },
  {
   "cell_type": "code",
   "execution_count": 31,
   "id": "e845daaf-e823-4a08-be52-712242058cc6",
   "metadata": {},
   "outputs": [],
   "source": [
    "# plt.imshow(val_pred_denorm,origin='lower',cmap='RdBu_r',vmin=-3,vmax=3)\n",
    "# plt.colorbar(orientation='horizontal')"
   ]
  },
  {
   "cell_type": "code",
   "execution_count": 32,
   "id": "1afee442-4eae-43e3-ab01-583819b030d6",
   "metadata": {},
   "outputs": [],
   "source": [
    "# plt.imshow(Yval_denorm,origin='lower',cmap='RdBu_r',vmin=-3,vmax=3)\n",
    "# plt.colorbar(orientation='horizontal')"
   ]
  },
  {
   "cell_type": "code",
   "execution_count": 33,
   "id": "8eeb77b2-0308-47df-9f39-b6edaa7aa7d2",
   "metadata": {},
   "outputs": [],
   "source": [
    "# ydiff_denorm = val_pred_denorm - Yval_denorm\n",
    "# plt.imshow(ydiff_denorm,origin='lower',cmap='RdBu_r')\n",
    "# plt.colorbar(orientation='horizontal')"
   ]
  },
  {
   "cell_type": "code",
   "execution_count": null,
   "id": "4f6bdd7a-716c-4c99-8933-cb175550c470",
   "metadata": {},
   "outputs": [],
   "source": []
  }
 ],
 "metadata": {
  "kernelspec": {
   "display_name": "MLWPS",
   "language": "python",
   "name": "mlwps"
  },
  "language_info": {
   "codemirror_mode": {
    "name": "ipython",
    "version": 3
   },
   "file_extension": ".py",
   "mimetype": "text/x-python",
   "name": "python",
   "nbconvert_exporter": "python",
   "pygments_lexer": "ipython3",
   "version": "3.11.6"
  }
 },
 "nbformat": 4,
 "nbformat_minor": 5
}
